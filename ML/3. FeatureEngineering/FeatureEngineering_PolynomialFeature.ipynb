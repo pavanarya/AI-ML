{
  "nbformat": 4,
  "nbformat_minor": 0,
  "metadata": {
    "colab": {
      "provenance": []
    },
    "kernelspec": {
      "name": "python3",
      "display_name": "Python 3"
    },
    "language_info": {
      "name": "python"
    }
  },
  "cells": [
    {
      "cell_type": "code",
      "source": [
        "!pip install numpy\n",
        "!pip install matplotlib\n",
        "!pip install scikit-learn"
      ],
      "metadata": {
        "colab": {
          "base_uri": "https://localhost:8080/"
        },
        "id": "Bo9zuHXisO7h",
        "outputId": "a431c054-c981-4608-a17b-0b8b741fe3c0"
      },
      "execution_count": 221,
      "outputs": [
        {
          "output_type": "stream",
          "name": "stdout",
          "text": [
            "Requirement already satisfied: numpy in /usr/local/lib/python3.11/dist-packages (1.26.4)\n",
            "Requirement already satisfied: matplotlib in /usr/local/lib/python3.11/dist-packages (3.10.0)\n",
            "Requirement already satisfied: contourpy>=1.0.1 in /usr/local/lib/python3.11/dist-packages (from matplotlib) (1.3.1)\n",
            "Requirement already satisfied: cycler>=0.10 in /usr/local/lib/python3.11/dist-packages (from matplotlib) (0.12.1)\n",
            "Requirement already satisfied: fonttools>=4.22.0 in /usr/local/lib/python3.11/dist-packages (from matplotlib) (4.55.8)\n",
            "Requirement already satisfied: kiwisolver>=1.3.1 in /usr/local/lib/python3.11/dist-packages (from matplotlib) (1.4.8)\n",
            "Requirement already satisfied: numpy>=1.23 in /usr/local/lib/python3.11/dist-packages (from matplotlib) (1.26.4)\n",
            "Requirement already satisfied: packaging>=20.0 in /usr/local/lib/python3.11/dist-packages (from matplotlib) (24.2)\n",
            "Requirement already satisfied: pillow>=8 in /usr/local/lib/python3.11/dist-packages (from matplotlib) (11.1.0)\n",
            "Requirement already satisfied: pyparsing>=2.3.1 in /usr/local/lib/python3.11/dist-packages (from matplotlib) (3.2.1)\n",
            "Requirement already satisfied: python-dateutil>=2.7 in /usr/local/lib/python3.11/dist-packages (from matplotlib) (2.8.2)\n",
            "Requirement already satisfied: six>=1.5 in /usr/local/lib/python3.11/dist-packages (from python-dateutil>=2.7->matplotlib) (1.17.0)\n",
            "Requirement already satisfied: scikit-learn in /usr/local/lib/python3.11/dist-packages (1.6.1)\n",
            "Requirement already satisfied: numpy>=1.19.5 in /usr/local/lib/python3.11/dist-packages (from scikit-learn) (1.26.4)\n",
            "Requirement already satisfied: scipy>=1.6.0 in /usr/local/lib/python3.11/dist-packages (from scikit-learn) (1.13.1)\n",
            "Requirement already satisfied: joblib>=1.2.0 in /usr/local/lib/python3.11/dist-packages (from scikit-learn) (1.4.2)\n",
            "Requirement already satisfied: threadpoolctl>=3.1.0 in /usr/local/lib/python3.11/dist-packages (from scikit-learn) (3.5.0)\n"
          ]
        }
      ]
    },
    {
      "cell_type": "code",
      "execution_count": 260,
      "metadata": {
        "colab": {
          "base_uri": "https://localhost:8080/"
        },
        "id": "05jOBjisrYrx",
        "outputId": "d2c1c4df-00c1-4633-cd6b-a3dd5b65c2d1"
      },
      "outputs": [
        {
          "output_type": "stream",
          "name": "stdout",
          "text": [
            "[[1 1]\n",
            " [2 2]\n",
            " [1 2]\n",
            " [2 1]]\n",
            "[ 1  1 -1 -1]\n"
          ]
        }
      ],
      "source": [
        "import numpy as np\n",
        "\n",
        "\"\"\"\n",
        "X_positive = np.array([(-1,-1),(1,1)])\n",
        "X_negative = np.array([(-1,1),(1,-1)])\n",
        "test_positive = np.array([(-1,-1),(1,1),(-1,-2),(-2,-1),(1,1),(2,2)])\n",
        "test_negative = np.array([(-1,1),(1,-1),(-1,3),(-2,1),(-2,2),(-0.5,+0.5)])\n",
        "\"\"\"\n",
        "\n",
        "#https://openlearninglibrary.mit.edu/assets/courseware/v1/4b61c604452f9f0d62c39ec28345ce8e/asset-v1:MITx+6.036+1T2019+type@asset+block/images_feature_representation_2.png\n",
        "X_positive = np.array([(1,1),(2,2)])\n",
        "X_negative = np.array([(1,2),(2,1)])\n",
        "test_positive = np.array([(-1,-1),(0,0),(1,1),(3,3),(2,2)])\n",
        "test_negative = np.array([(1,-1),(2,-1),(3,0),(4,1),(-1,4),(0,5),(4,5)])\n",
        "\n",
        "X = np.vstack((X_positive , X_negative))\n",
        "y = np.array([1]*len(X_positive) + [-1]*len(X_negative))\n",
        "\n",
        "print(X)\n",
        "print(y)"
      ]
    },
    {
      "cell_type": "code",
      "source": [
        "import matplotlib.pyplot as plt\n",
        "\n",
        "plt.scatter(X_positive[:,0], X_positive[:,1], color='green')\n",
        "plt.scatter(X_positive[:,0], X_negative[:,1], color='red')\n",
        "plt.show()"
      ],
      "metadata": {
        "colab": {
          "base_uri": "https://localhost:8080/",
          "height": 430
        },
        "id": "HkWVXEBOtALc",
        "outputId": "f94a53ec-6b83-4910-90c6-2808100bda43"
      },
      "execution_count": 223,
      "outputs": [
        {
          "output_type": "display_data",
          "data": {
            "text/plain": [
              "<Figure size 640x480 with 1 Axes>"
            ],
            "image/png": "[encoded data removed]"
          },
          "metadata": {}
        }
      ]
    },
    {
      "cell_type": "code",
      "source": [
        "def plot_decision_boundary(X_positive,X_negative,coefficients, constant, iteration):\n",
        "  plt.figure(figsize=(8,6))\n",
        "  plt.scatter(X_positive[:, 0], X_positive[:, 1],marker='o', color='green', label='Positive')\n",
        "  plt.scatter(X_negative[:, 0], X_negative[:, 1],marker='x', color='red', label='Negative')\n",
        "\n",
        "  x_values = np.linspace(-3, 3, 2)\n",
        "  if coefficients[1] != 0:\n",
        "    y_values = -(coefficients[0] * x_values + constant) / coefficients[1]\n",
        "    plt.plot(x_values, y_values, label=f'Iteration {iteration}')\n",
        "  else:\n",
        "    x_value = -constant/coefficients[0]\n",
        "    plt.axvline(x=x_value, color='blue', linestyle='--', label=f'Iteration {iteration}')\n",
        "\n",
        "  plt.xlabel(\"x1\")\n",
        "  plt.ylabel(\"x2\")\n",
        "  plt.xlim(-3, 3)\n",
        "  plt.ylim(-4, 4)\n",
        "  plt.title(\"Scatter Plot of Points\")\n",
        "  plt.legend()\n",
        "  plt.grid(True)\n",
        "  plt.show()"
      ],
      "metadata": {
        "id": "CgznpuBkvOFY"
      },
      "execution_count": 224,
      "outputs": []
    },
    {
      "cell_type": "code",
      "source": [
        "def Perceptron(X, y, epochs=10):\n",
        "    best_coefficients = np.zeros(X.shape[1])\n",
        "    best_constant =0\n",
        "    best_accuracy = 0\n",
        "\n",
        "    for epoch in range(epochs):\n",
        "        for i in range(len(X)):\n",
        "            x = X[i]\n",
        "            val = np.dot(x, best_coefficients) + best_constant\n",
        "            #print(\"Val: \"+str(y[i] * val)+\" Coeffcients:\"+str(best_coefficients)+\" Constant:\"+str(best_constant)+\"  X:\"+str(x))\n",
        "            if y[i] * val <= 0:\n",
        "                best_coefficients += y[i]*x\n",
        "                best_constant += y[i]\n",
        "                break;\n",
        "            #plot_decision_boundary(best_coefficients, best_constant, epoch)\n",
        "    return best_coefficients, best_constant"
      ],
      "metadata": {
        "id": "j1lgDEOAtdx-"
      },
      "execution_count": 225,
      "outputs": []
    },
    {
      "cell_type": "code",
      "source": [
        "best_coefficients, best_constant = Perceptron(X, y,125)\n",
        "print(best_coefficients)\n",
        "print(best_constant)\n",
        "\n",
        "plot_decision_boundary(test_positive,test_negative,best_coefficients, best_constant, 3)\n",
        "test_X = np.vstack((test_positive , test_negative))\n",
        "test_y = np.array([1]*len(test_positive) + [-1]*len(test_negative))\n",
        "\n",
        "correct = 0\n",
        "for i in range(len(test_X)):\n",
        "  val = np.dot(test_X[i], best_coefficients) + best_constant\n",
        "  if np.sign(val) == test_y[i]:\n",
        "    correct += 1\n",
        "  print(str(val)+\" Point:\"+str(test_X[i]))\n",
        "\n",
        "print(correct*100/len(test_X))"
      ],
      "metadata": {
        "colab": {
          "base_uri": "https://localhost:8080/",
          "height": 859
        },
        "id": "2YaxVNxYszja",
        "outputId": "d48bd70f-119d-4d96-964d-07fe7c8459d2"
      },
      "execution_count": 282,
      "outputs": [
        {
          "output_type": "stream",
          "name": "stdout",
          "text": [
            "[ 4. -1.]\n",
            "3\n"
          ]
        },
        {
          "output_type": "display_data",
          "data": {
            "text/plain": [
              "<Figure size 800x600 with 1 Axes>"
            ],
            "image/png": "[encoded data removed]"
          },
          "metadata": {}
        },
        {
          "output_type": "stream",
          "name": "stdout",
          "text": [
            "0.0 Point:[-1. -1.]\n",
            "3.0 Point:[0. 0.]\n",
            "6.0 Point:[1. 1.]\n",
            "12.0 Point:[3. 3.]\n",
            "9.0 Point:[2. 2.]\n",
            "11.9 Point:[3.  3.1]\n",
            "-3.2 Point:[-2.  -1.8]\n",
            "14.0 Point:[4. 5.]\n",
            "8.0 Point:[ 1. -1.]\n",
            "12.0 Point:[ 2. -1.]\n",
            "15.0 Point:[3. 0.]\n",
            "18.0 Point:[4. 1.]\n",
            "-5.0 Point:[-1.  4.]\n",
            "-2.0 Point:[0. 5.]\n",
            "57.142857142857146\n"
          ]
        }
      ]
    },
    {
      "cell_type": "code",
      "source": [
        "#Feature engineering\n",
        "from sklearn.preprocessing import PolynomialFeatures\n",
        "\n",
        "a = np.array([[2,3],[1,2]])\n",
        "print(a)\n",
        "poly = PolynomialFeatures(degree=5)\n",
        "a_poly = poly.fit_transform(a)\n",
        "features = poly.get_feature_names_out(['a','b'])\n",
        "print(a_poly)\n",
        "print(features)"
      ],
      "metadata": {
        "colab": {
          "base_uri": "https://localhost:8080/"
        },
        "id": "_MTFBaXevMlB",
        "outputId": "ba7e340a-e52c-4044-d42a-b395b6e9c08e"
      },
      "execution_count": 227,
      "outputs": [
        {
          "output_type": "stream",
          "name": "stdout",
          "text": [
            "[[2 3]\n",
            " [1 2]]\n",
            "[[  1.   2.   3.   4.   6.   9.   8.  12.  18.  27.  16.  24.  36.  54.\n",
            "   81.  32.  48.  72. 108. 162. 243.]\n",
            " [  1.   1.   2.   1.   2.   4.   1.   2.   4.   8.   1.   2.   4.   8.\n",
            "   16.   1.   2.   4.   8.  16.  32.]]\n",
            "['1' 'a' 'b' 'a^2' 'a b' 'b^2' 'a^3' 'a^2 b' 'a b^2' 'b^3' 'a^4' 'a^3 b'\n",
            " 'a^2 b^2' 'a b^3' 'b^4' 'a^5' 'a^4 b' 'a^3 b^2' 'a^2 b^3' 'a b^4' 'b^5']\n"
          ]
        }
      ]
    },
    {
      "cell_type": "code",
      "source": [
        "from sklearn.preprocessing import PolynomialFeatures\n",
        "\n",
        "a = np.array(X)\n",
        "poly = PolynomialFeatures(degree=2)\n",
        "a_poly = poly.fit_transform(a)\n",
        "\n",
        "best_coefficients, best_constant = Perceptron(a_poly, y,125)\n",
        "print(best_coefficients)\n",
        "print(best_constant)\n",
        "\n",
        "test_positive = np.array([(-1,-1),(0,0),(1,1),(3,3),(2,2),(3,3.1),(-2,-1.8),(4,5)])\n",
        "test_negative = np.array([(1,-1),(2,-1),(3,0),(4,1),(-1,4),(0,5)])\n",
        "\n",
        "test_X = np.vstack((test_positive , test_negative))\n",
        "test_y = np.array([1]*len(test_positive) + [-1]*len(test_negative))\n",
        "\n",
        "test_a_poly = poly.fit_transform(test_X)\n",
        "correct = 0\n",
        "for i in range(len(test_a_poly)):\n",
        "  val = np.dot(test_a_poly[i], best_coefficients) + best_constant\n",
        "  if np.sign(val) == test_y[i]:\n",
        "    correct += 1\n",
        "  print(\"Expected: \"+str(test_y[i])+\"      \"+str(val)+\"                  Point:\"+str(test_X[i]))\n",
        "print(correct*100/len(test_X))"
      ],
      "metadata": {
        "colab": {
          "base_uri": "https://localhost:8080/"
        },
        "id": "-Vsjyf0X3v58",
        "outputId": "704b8021-c858-43a1-c047-7023bd43a664"
      },
      "execution_count": 280,
      "outputs": [
        {
          "output_type": "stream",
          "name": "stdout",
          "text": [
            "[ 5.  1.  1. -7. 23. -7.]\n",
            "5\n",
            "Expected: 1      17.0                  Point:[-1. -1.]\n",
            "Expected: 1      10.0                  Point:[0. 0.]\n",
            "Expected: 1      21.0                  Point:[1. 1.]\n",
            "Expected: 1      97.0                  Point:[3. 3.]\n",
            "Expected: 1      50.0                  Point:[2. 2.]\n",
            "Expected: 1      99.72999999999999                  Point:[3.  3.1]\n",
            "Expected: 1      38.32                  Point:[-2.  -1.8]\n",
            "Expected: 1      192.0                  Point:[4. 5.]\n",
            "Expected: -1      -27.0                  Point:[ 1. -1.]\n",
            "Expected: -1      -70.0                  Point:[ 2. -1.]\n",
            "Expected: -1      -50.0                  Point:[3. 0.]\n",
            "Expected: -1      -12.0                  Point:[4. 1.]\n",
            "Expected: -1      -198.0                  Point:[-1.  4.]\n",
            "Expected: -1      -160.0                  Point:[0. 5.]\n",
            "100.0\n"
          ]
        }
      ]
    },
    {
      "cell_type": "markdown",
      "source": [
        "https://openlearninglibrary.mit.edu/assets/courseware/v1/4288137b7bd7f6b7a431b5b6c9f90b85/asset-v1:MITx+6.036+1T2019+type@asset+block/images_feature_representation_1.png"
      ],
      "metadata": {
        "id": "7E1gxueeWn_J"
      }
    }
  ]
}