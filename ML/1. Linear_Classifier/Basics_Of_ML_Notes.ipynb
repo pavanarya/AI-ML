{
 "cells": [
  {
   "cell_type": "markdown",
   "metadata": {},
   "source": [
    "Types Of ML:\n",
    "\n",
    "Supervised Learning: \n",
    "    Data we have = {(x1,y1),(x2,y2)..... (xn,yn)}\n",
    "\n",
    "    Here x is input and y is output\n",
    "    Simply dataset we have will have what is the input and what is the output.\n",
    "    In this learning, we try to find relationship(best mathematical equation) between x and y.\n",
    "    So that in future when we give some x(test input), we should be able to predict y near accurately\n",
    "\n",
    "    Example: This is the data in format (hours,marks)\n",
    "    {(2,40),(3,50),(4,60),(5,70),(6,80),(7,90),(8,100)}\n",
    "\n",
    "    So if someone asks us like if a student studies for 6.5hrs what will be his appx marks, based on the above data we can predict he would get around 85 appx\n",
    "\n",
    "    Similarly, If we have data of 100 images labelled as dogs and 100 images labelled as cats, so input data is \n",
    "    {(img1,dog),(img2,cat),(img3,dog),(img4,dog)......(img200,cat)}\n",
    "    then if we train this data and the output we are expecting is\n",
    "    when we give a new image of cat or dog, we want our model to predict it accurately"
   ]
  },
  {
   "cell_type": "markdown",
   "metadata": {},
   "source": []
  },
  {
   "cell_type": "markdown",
   "metadata": {},
   "source": [
    "Unsupervided Learning:\n",
    "    Data we have {x1,x2,x3.....xn}\n",
    "    \n",
    "    So here we will not have output data available during training but we need to make predictions.\n",
    "    For example, we have huge dataset of resumes and we need to classify them into diff groups. So may be based on resume skill content we will try to sort them out"
   ]
  }
 ],
 "metadata": {
  "language_info": {
   "name": "python"
  }
 },
 "nbformat": 4,
 "nbformat_minor": 2
}
