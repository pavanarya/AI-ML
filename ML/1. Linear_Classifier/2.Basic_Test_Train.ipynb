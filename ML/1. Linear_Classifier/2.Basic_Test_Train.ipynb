{
  "cells": [
    {
      "cell_type": "code",
      "source": [
        "!pip install numpy\n",
        "!pip install matplotlib\n",
        "!pip install pandas\n",
        "!pip install scikitlearn"
      ],
      "metadata": {
        "colab": {
          "base_uri": "https://localhost:8080/"
        },
        "id": "SZpchLkKFhRQ",
        "outputId": "dccea332-e714-4bc8-eefc-1bddccaf64db"
      },
      "execution_count": 1,
      "outputs": [
        {
          "output_type": "stream",
          "name": "stdout",
          "text": [
            "Requirement already satisfied: numpy in /usr/local/lib/python3.11/dist-packages (1.26.4)\n",
            "Requirement already satisfied: matplotlib in /usr/local/lib/python3.11/dist-packages (3.10.0)\n",
            "Requirement already satisfied: contourpy>=1.0.1 in /usr/local/lib/python3.11/dist-packages (from matplotlib) (1.3.1)\n",
            "Requirement already satisfied: cycler>=0.10 in /usr/local/lib/python3.11/dist-packages (from matplotlib) (0.12.1)\n",
            "Requirement already satisfied: fonttools>=4.22.0 in /usr/local/lib/python3.11/dist-packages (from matplotlib) (4.55.7)\n",
            "Requirement already satisfied: kiwisolver>=1.3.1 in /usr/local/lib/python3.11/dist-packages (from matplotlib) (1.4.8)\n",
            "Requirement already satisfied: numpy>=1.23 in /usr/local/lib/python3.11/dist-packages (from matplotlib) (1.26.4)\n",
            "Requirement already satisfied: packaging>=20.0 in /usr/local/lib/python3.11/dist-packages (from matplotlib) (24.2)\n",
            "Requirement already satisfied: pillow>=8 in /usr/local/lib/python3.11/dist-packages (from matplotlib) (11.1.0)\n",
            "Requirement already satisfied: pyparsing>=2.3.1 in /usr/local/lib/python3.11/dist-packages (from matplotlib) (3.2.1)\n",
            "Requirement already satisfied: python-dateutil>=2.7 in /usr/local/lib/python3.11/dist-packages (from matplotlib) (2.8.2)\n",
            "Requirement already satisfied: six>=1.5 in /usr/local/lib/python3.11/dist-packages (from python-dateutil>=2.7->matplotlib) (1.17.0)\n",
            "Requirement already satisfied: pandas in /usr/local/lib/python3.11/dist-packages (2.2.2)\n",
            "Requirement already satisfied: numpy>=1.23.2 in /usr/local/lib/python3.11/dist-packages (from pandas) (1.26.4)\n",
            "Requirement already satisfied: python-dateutil>=2.8.2 in /usr/local/lib/python3.11/dist-packages (from pandas) (2.8.2)\n",
            "Requirement already satisfied: pytz>=2020.1 in /usr/local/lib/python3.11/dist-packages (from pandas) (2024.2)\n",
            "Requirement already satisfied: tzdata>=2022.7 in /usr/local/lib/python3.11/dist-packages (from pandas) (2025.1)\n",
            "Requirement already satisfied: six>=1.5 in /usr/local/lib/python3.11/dist-packages (from python-dateutil>=2.8.2->pandas) (1.17.0)\n",
            "\u001b[31mERROR: Could not find a version that satisfies the requirement scikitlearn (from versions: none)\u001b[0m\u001b[31m\n",
            "\u001b[0m\u001b[31mERROR: No matching distribution found for scikitlearn\u001b[0m\u001b[31m\n",
            "\u001b[0m"
          ]
        }
      ]
    },
    {
      "cell_type": "code",
      "execution_count": 6,
      "metadata": {
        "vscode": {
          "languageId": "plaintext"
        },
        "id": "fvow2SzUFMy0"
      },
      "outputs": [],
      "source": [
        "import numpy as np\n",
        "import matplotlib.pyplot as plt\n",
        "import pandas as pd"
      ]
    },
    {
      "cell_type": "markdown",
      "source": [
        "#Step1:\n",
        "Processing Input Data, In this case we will simply generate input data using numpy.\n",
        "\n",
        "Lets take height and weight of 30 people"
      ],
      "metadata": {
        "id": "JlPmLrXrIrMY"
      }
    },
    {
      "cell_type": "code",
      "source": [
        "import numpy as np\n",
        "import pandas as pd\n",
        "\n",
        "def generate_adult_data(num_samples, min_age=30):\n",
        "    data = []\n",
        "    for _ in range(num_samples):\n",
        "        # Realistic height generation (adjust means and stds based on population data)\n",
        "        height_cm = np.random.normal(170, 7)  # Example: Mean 170cm, std dev 7cm.  Adjust these!!!\n",
        "        height_feet = height_cm * 0.0328084\n",
        "\n",
        "        # Weight generation correlated with height and age (more sophisticated)\n",
        "        # This is a simplified example.  Real-world weight is influenced by many factors.\n",
        "        base_weight = (height_cm - 100)  # A very rough estimate, adjust this relationship\n",
        "        weight_variation = np.random.normal(0, 10)  # Add some random variation\n",
        "        weight_kg = base_weight + weight_variation\n",
        "\n",
        "        # Ensure weight is not negative\n",
        "        weight_kg = max(1, weight_kg) # set the floor to 1 kg\n",
        "\n",
        "        bmi = weight_kg / (height_cm / 100)**2\n",
        "\n",
        "        # More nuanced obesity classification (adjust thresholds as needed)\n",
        "        if bmi < 18.5:\n",
        "            obese = \"Normal\"\n",
        "        elif bmi < 25:\n",
        "            obese = \"Normal\"\n",
        "        elif bmi < 30:\n",
        "            obese = \"Obese\"\n",
        "        else:\n",
        "            obese = \"Obese\"\n",
        "\n",
        "        data.append([0,height_feet, weight_kg, obese])\n",
        "\n",
        "    return pd.DataFrame(data, columns=[\"Age\", \"Height in feet\", \"Weight in Kg\", \"Obese or not\"])\n",
        "\n",
        "\n",
        "# Generate 1000 samples\n",
        "num_samples = 200\n",
        "df = generate_adult_data(num_samples)"
      ],
      "metadata": {
        "id": "2OVUC81BD4ak"
      },
      "execution_count": 3,
      "outputs": []
    },
    {
      "cell_type": "code",
      "source": [
        "# from google.colab import drive\n",
        "# drive.mount('/content/drive')\n",
        "# df = pd.read_csv(\"/content/drive/MyDrive/Colab Notebooks/content/height_weight_balanced_obese_samples.csv\")"
      ],
      "metadata": {
        "id": "mm7yFbRJ9i7Z"
      },
      "execution_count": null,
      "outputs": []
    },
    {
      "cell_type": "code",
      "source": [
        "# prompt: split dataframe into 2 dataframes based on column value\n",
        "\n",
        "df_obese = df[df.iloc[:,3] == \"Obese\"]\n",
        "df_healthy = df[df.iloc[:,3] == \"Normal\"]\n",
        "\n",
        "non_obese_height = df_healthy.iloc[:,1].to_numpy()   #np.random.normal(loc=5.5,size=30,scale=0.5)\n",
        "non_obese_weight = df_healthy.iloc[:,2].to_numpy() #np.random.normal(loc=60,size=30,scale=2.5)\n",
        "obese_height = df_obese.iloc[:,1].to_numpy()\n",
        "obese_weight = df_obese.iloc[:,2].to_numpy()\n"
      ],
      "metadata": {
        "id": "E0DatBKz95i9"
      },
      "execution_count": 7,
      "outputs": []
    },
    {
      "cell_type": "code",
      "source": [
        "plt.scatter(non_obese_height,non_obese_weight)\n",
        "plt.scatter(obese_height,obese_weight)\n",
        "plt.xlabel(\"Height\")\n",
        "plt.ylabel(\"Weight\")\n",
        "plt.legend([\"Non Obese\",\"Obese\"])\n",
        "plt.show()"
      ],
      "metadata": {
        "colab": {
          "base_uri": "https://localhost:8080/",
          "height": 449
        },
        "id": "pXFRNaxhMm2_",
        "outputId": "70dce39b-42b4-4872-ec02-92d0a2fcf9b1"
      },
      "execution_count": 8,
      "outputs": [
        {
          "output_type": "display_data",
          "data": {
            "text/plain": [
              "<Figure size 640x480 with 1 Axes>"
            ],
            "image/png": "[encoded data removed]"
          },
          "metadata": {}
        }
      ]
    },
    {
      "cell_type": "markdown",
      "source": [
        "#Step 2\n",
        "Space of All possible solutions(Hypothesis)\n",
        "\n",
        "For x -> Hypothesis -> Y\n",
        "\n",
        "Lets Build a classifier line that separates people who are obese and not. It can be a straight line that separates both categories\n",
        "\n",
        "Linear algebra equation for a straight line\n",
        "ax+by+c=0\n",
        "x = height\n",
        "y = weight\n",
        "\n",
        "This is a standard form of line\n",
        "\n",
        "https://www.youtube.com/watch?v=-DnmoFnQUtk\n",
        "\n"
      ],
      "metadata": {
        "id": "FR_ymn8XZjaN"
      }
    },
    {
      "cell_type": "code",
      "source": [
        "non_obese_arr = np.array([non_obese_height,non_obese_weight])\n",
        "obese_arr= np.array([obese_height,obese_weight])\n",
        "\n",
        "obese_arr_data = np.array([list(row) for row in zip(obese_arr[0], obese_arr[1])])\n",
        "non_obese_arr_data = np.array([list(row) for row in zip(non_obese_arr[0], non_obese_arr[1])])\n",
        "\n",
        "data = np.vstack((obese_arr_data, non_obese_arr_data))\n",
        "#labels = np.hstack((np.zeros(len(obese_arr_data)), np.ones(len(non_obese_arr_data))))\n",
        "labels = np.hstack((np.array([\"Obese\"] * len(obese_arr_data), dtype=object), np.array([\"Healthy\"] * len(non_obese_arr_data), dtype=object)))\n",
        "\n",
        "\n"
      ],
      "metadata": {
        "id": "k6fTuBUvZ102"
      },
      "execution_count": 22,
      "outputs": []
    },
    {
      "cell_type": "code",
      "source": [
        "from sklearn.model_selection import train_test_split\n",
        "X_train, X_test, y_train, y_test = train_test_split(data, labels, test_size=0.2, random_state=42)"
      ],
      "metadata": {
        "id": "R17FdE9nd4kT"
      },
      "execution_count": 23,
      "outputs": []
    },
    {
      "cell_type": "code",
      "source": [
        "print(X_train)\n",
        "print(y_train)"
      ],
      "metadata": {
        "id": "q-OcOH_fftWK",
        "outputId": "34df30d2-11aa-4067-f562-e37920106a68",
        "colab": {
          "base_uri": "https://localhost:8080/"
        }
      },
      "execution_count": 24,
      "outputs": [
        {
          "output_type": "stream",
          "name": "stdout",
          "text": [
            "[[  5.8654713   72.42833623]\n",
            " [  5.87602649  74.67402161]\n",
            " [  5.37077631  83.36014941]\n",
            " [  5.57700469  84.59310503]\n",
            " [  5.40271153  47.80237328]\n",
            " [  5.74486617  65.13595489]\n",
            " [  5.77389195  89.02916944]\n",
            " [  5.59338387  80.51198221]\n",
            " [  5.36051334  66.15489138]\n",
            " [  5.06819063  39.49797811]\n",
            " [  5.41659349  59.93934461]\n",
            " [  5.72055552  68.87656178]\n",
            " [  5.81915098  81.67950643]\n",
            " [  5.17679902  59.29419676]\n",
            " [  5.43509102  61.75639306]\n",
            " [  5.72650048  56.74062661]\n",
            " [  5.27185542  59.01249304]\n",
            " [  5.44457127  62.55830828]\n",
            " [  5.43240567  56.63535758]\n",
            " [  5.43030618  47.16560971]\n",
            " [  5.54243617  62.21992924]\n",
            " [  5.72571091  71.93921635]\n",
            " [  5.15079062  66.13681292]\n",
            " [  5.50443872  93.78872831]\n",
            " [  5.76022905  86.08863951]\n",
            " [  5.08166304  36.50070485]\n",
            " [  5.70293965  88.84449088]\n",
            " [  5.30893458  54.51827812]\n",
            " [  5.89772746  63.62648969]\n",
            " [  5.19669124  56.81375424]\n",
            " [  5.29635972  66.80074257]\n",
            " [  5.60354824  59.73197149]\n",
            " [  5.3900681   50.63291831]\n",
            " [  5.99168053  86.70410953]\n",
            " [  5.18357059  54.52199728]\n",
            " [  4.95320021  46.7334655 ]\n",
            " [  5.50281559  76.31176728]\n",
            " [  5.64795334  63.37418907]\n",
            " [  5.16265204  42.64270231]\n",
            " [  5.26532021  58.5309213 ]\n",
            " [  5.45130858  70.93336937]\n",
            " [  5.61849284  60.68977118]\n",
            " [  5.41089101  80.66182281]\n",
            " [  5.08622958  54.82107292]\n",
            " [  5.72629884  64.87735095]\n",
            " [  5.0512486   38.0628315 ]\n",
            " [  5.65979366  71.29618198]\n",
            " [  5.59211816  94.15933876]\n",
            " [  5.57932375  62.81918639]\n",
            " [  5.15686133  51.35495522]\n",
            " [  5.74122602  87.22736569]\n",
            " [  5.26101765  62.03601415]\n",
            " [  5.86055498  75.41283925]\n",
            " [  5.43102342  68.98958423]\n",
            " [  5.64905347  91.32446905]\n",
            " [  5.44202662  61.63515929]\n",
            " [  5.6116496   68.55828232]\n",
            " [  5.54823998  74.98641045]\n",
            " [  5.43140655  91.04965898]\n",
            " [  5.56591239  37.84567499]\n",
            " [  5.5006919   80.51809898]\n",
            " [  5.19210867  69.42615666]\n",
            " [  5.58347634  59.89441103]\n",
            " [  5.64793334  71.23453969]\n",
            " [  5.61171492  54.32580939]\n",
            " [  5.51451796  67.09907422]\n",
            " [  5.34338204  76.6193097 ]\n",
            " [  5.4818588   65.21916701]\n",
            " [  5.74127127  58.09627683]\n",
            " [  5.5660752   61.55178707]\n",
            " [  6.00144223  67.9491541 ]\n",
            " [  5.57955961  76.83567778]\n",
            " [  5.604252    69.24630451]\n",
            " [  5.6496484   68.87790442]\n",
            " [  5.65982012  73.50780238]\n",
            " [  5.45711337  67.09423224]\n",
            " [  5.2362831   45.86742908]\n",
            " [  5.68250512  78.77860057]\n",
            " [  5.63803568  66.93780096]\n",
            " [  5.94781617  83.11363445]\n",
            " [  5.31468575  66.48778026]\n",
            " [  5.68888484  58.85892428]\n",
            " [  5.78142296  66.67206442]\n",
            " [  5.72674529  69.71813638]\n",
            " [  5.49953713  83.67781417]\n",
            " [  5.49386937  71.15935994]\n",
            " [  5.25155625  42.03081087]\n",
            " [  5.75463035  71.27834719]\n",
            " [  5.44377165  66.30576411]\n",
            " [  5.55111617  79.12519113]\n",
            " [  5.26771001  64.43030001]\n",
            " [  5.5569215   81.08457337]\n",
            " [  5.38526797  47.54344877]\n",
            " [  5.6024126   64.63099835]\n",
            " [  5.37593861  69.24591663]\n",
            " [  5.82929735  71.8439377 ]\n",
            " [  5.67461072  82.5950924 ]\n",
            " [  5.97992877  81.81141813]\n",
            " [  5.30783304  74.54211685]\n",
            " [  5.18367789  54.51753288]\n",
            " [  5.67650245  60.38230558]\n",
            " [  5.65157704  71.27146669]\n",
            " [  5.42552443  66.32625796]\n",
            " [  5.87063932  82.0591571 ]\n",
            " [  5.3871411   62.75962216]\n",
            " [  6.02242684  91.4073076 ]\n",
            " [  5.79436543 100.91471916]\n",
            " [  5.43037874  68.47577201]\n",
            " [  5.14910675  51.59974099]\n",
            " [  5.47528887  54.0125951 ]\n",
            " [  5.68775227  66.60322895]\n",
            " [  4.99200923  52.50224553]\n",
            " [  6.06874833  68.85063539]\n",
            " [  5.52726357  75.30348165]\n",
            " [  5.46595294  71.6754497 ]\n",
            " [  5.48545171  62.34276297]\n",
            " [  5.39750101  64.43431789]\n",
            " [  5.76864153  75.01670716]\n",
            " [  5.3781944   72.2641822 ]\n",
            " [  5.55754804  61.6509731 ]\n",
            " [  5.41020524  48.8363503 ]\n",
            " [  5.23664689  48.59082877]\n",
            " [  5.84520339  57.75287365]\n",
            " [  5.76946827  72.60188459]\n",
            " [  5.40582048  60.37902672]\n",
            " [  5.6375375   81.47103532]\n",
            " [  5.51271795  56.09614738]\n",
            " [  5.48342047  72.92539179]\n",
            " [  5.62172108  64.79379798]\n",
            " [  5.5727647   70.19288536]\n",
            " [  5.40162915  68.75494401]\n",
            " [  5.50901206  70.00376471]\n",
            " [  5.88329635  93.99528888]\n",
            " [  5.55902381  74.43677593]\n",
            " [  5.6124133   66.5313755 ]\n",
            " [  5.62743178  51.65186522]\n",
            " [  5.71511676  65.70447659]\n",
            " [  5.76826231  80.96174177]\n",
            " [  5.15419102  53.70326575]\n",
            " [  5.56614633  67.41281812]\n",
            " [  5.12165194  69.04275552]\n",
            " [  5.38125124  75.94828604]\n",
            " [  5.59052925  55.12478131]\n",
            " [  5.11146906  58.32591442]\n",
            " [  5.7350411   53.37727886]\n",
            " [  5.90996287  70.0030074 ]\n",
            " [  5.63096234  71.59130673]\n",
            " [  5.47320387  68.37820519]\n",
            " [  5.36592177  52.26215139]\n",
            " [  6.29842329  77.73176694]\n",
            " [  5.64441969  70.90305519]\n",
            " [  5.82590003  78.29324256]\n",
            " [  5.41056333  85.00638489]\n",
            " [  5.50010137  68.3834424 ]\n",
            " [  5.10330207  46.34522252]\n",
            " [  5.52415524  54.06541395]\n",
            " [  5.16785915  77.39813806]\n",
            " [  5.5179965   68.15873677]\n",
            " [  5.3448163   64.87423372]\n",
            " [  5.11335734  54.78574451]]\n",
            "['Healthy' 'Healthy' 'Obese' 'Obese' 'Healthy' 'Healthy' 'Obese' 'Obese'\n",
            " 'Healthy' 'Healthy' 'Healthy' 'Healthy' 'Obese' 'Healthy' 'Healthy'\n",
            " 'Healthy' 'Healthy' 'Healthy' 'Healthy' 'Healthy' 'Healthy' 'Healthy'\n",
            " 'Obese' 'Obese' 'Obese' 'Healthy' 'Obese' 'Healthy' 'Healthy' 'Healthy'\n",
            " 'Obese' 'Healthy' 'Healthy' 'Obese' 'Healthy' 'Healthy' 'Obese' 'Healthy'\n",
            " 'Healthy' 'Healthy' 'Obese' 'Healthy' 'Obese' 'Healthy' 'Healthy'\n",
            " 'Healthy' 'Healthy' 'Obese' 'Healthy' 'Healthy' 'Obese' 'Healthy'\n",
            " 'Healthy' 'Obese' 'Obese' 'Healthy' 'Healthy' 'Obese' 'Obese' 'Healthy'\n",
            " 'Obese' 'Obese' 'Healthy' 'Healthy' 'Healthy' 'Healthy' 'Obese' 'Healthy'\n",
            " 'Healthy' 'Healthy' 'Healthy' 'Obese' 'Healthy' 'Healthy' 'Healthy'\n",
            " 'Healthy' 'Healthy' 'Obese' 'Healthy' 'Obese' 'Obese' 'Healthy' 'Healthy'\n",
            " 'Healthy' 'Obese' 'Obese' 'Healthy' 'Healthy' 'Healthy' 'Obese' 'Healthy'\n",
            " 'Obese' 'Healthy' 'Healthy' 'Obese' 'Healthy' 'Obese' 'Healthy' 'Obese'\n",
            " 'Healthy' 'Healthy' 'Healthy' 'Healthy' 'Obese' 'Healthy' 'Obese' 'Obese'\n",
            " 'Healthy' 'Healthy' 'Healthy' 'Healthy' 'Healthy' 'Healthy' 'Obese'\n",
            " 'Obese' 'Healthy' 'Healthy' 'Healthy' 'Obese' 'Healthy' 'Healthy'\n",
            " 'Healthy' 'Healthy' 'Healthy' 'Healthy' 'Obese' 'Healthy' 'Obese'\n",
            " 'Healthy' 'Healthy' 'Obese' 'Healthy' 'Obese' 'Obese' 'Healthy' 'Healthy'\n",
            " 'Healthy' 'Obese' 'Healthy' 'Healthy' 'Obese' 'Obese' 'Healthy' 'Healthy'\n",
            " 'Healthy' 'Healthy' 'Healthy' 'Healthy' 'Healthy' 'Healthy' 'Healthy'\n",
            " 'Healthy' 'Obese' 'Healthy' 'Healthy' 'Healthy' 'Obese' 'Healthy'\n",
            " 'Healthy' 'Healthy']\n"
          ]
        }
      ]
    },
    {
      "cell_type": "code",
      "source": [
        "print(X_test)\n",
        "print(y_test)"
      ],
      "metadata": {
        "id": "b1jHoDQff2G5",
        "outputId": "26d400f4-8067-4aa8-ff87-b4e5462fb945",
        "colab": {
          "base_uri": "https://localhost:8080/"
        }
      },
      "execution_count": 25,
      "outputs": [
        {
          "output_type": "stream",
          "name": "stdout",
          "text": [
            "[[ 5.88103001 63.15029678]\n",
            " [ 5.50953227 74.56553382]\n",
            " [ 5.35027395 69.38408948]\n",
            " [ 5.70769547 73.9904774 ]\n",
            " [ 5.54485249 60.38569856]\n",
            " [ 5.60398035 51.8841044 ]\n",
            " [ 5.99250731 78.26136081]\n",
            " [ 5.57998297 71.68149121]\n",
            " [ 5.68644802 64.29634976]\n",
            " [ 5.59121555 89.80055889]\n",
            " [ 5.52769162 70.34791777]\n",
            " [ 5.52785397 67.67168597]\n",
            " [ 5.48128473 68.19105196]\n",
            " [ 5.21269523 40.94441892]\n",
            " [ 5.82022913 54.17919141]\n",
            " [ 5.52925458 50.05635402]\n",
            " [ 5.60044897 79.95632685]\n",
            " [ 5.60303913 66.38233358]\n",
            " [ 5.8229809  77.01986985]\n",
            " [ 5.2388278  60.41505361]\n",
            " [ 5.77937506 72.29355711]\n",
            " [ 5.64237877 82.49960021]\n",
            " [ 5.44525411 55.20540757]\n",
            " [ 5.65850604 67.82744205]\n",
            " [ 5.30439359 58.32015216]\n",
            " [ 5.68622843 71.18967659]\n",
            " [ 5.80084664 61.23876961]\n",
            " [ 5.62381846 70.6307573 ]\n",
            " [ 5.18538482 58.77098783]\n",
            " [ 5.69450953 62.41175534]\n",
            " [ 5.33262627 71.82866537]\n",
            " [ 5.64864427 87.62609764]\n",
            " [ 5.70449168 77.53290022]\n",
            " [ 5.94593974 77.37462389]\n",
            " [ 5.59117063 40.74581955]\n",
            " [ 5.67811375 65.65084475]\n",
            " [ 4.85893196 30.99130662]\n",
            " [ 5.66851313 69.13433446]\n",
            " [ 5.79049712 69.1445753 ]\n",
            " [ 5.44536369 63.01657229]]\n",
            "['Healthy' 'Obese' 'Obese' 'Healthy' 'Healthy' 'Healthy' 'Healthy'\n",
            " 'Healthy' 'Healthy' 'Obese' 'Healthy' 'Healthy' 'Healthy' 'Healthy'\n",
            " 'Healthy' 'Healthy' 'Obese' 'Healthy' 'Healthy' 'Healthy' 'Healthy'\n",
            " 'Obese' 'Healthy' 'Healthy' 'Healthy' 'Healthy' 'Healthy' 'Healthy'\n",
            " 'Healthy' 'Healthy' 'Obese' 'Obese' 'Obese' 'Healthy' 'Healthy' 'Healthy'\n",
            " 'Healthy' 'Healthy' 'Healthy' 'Healthy']\n"
          ]
        }
      ]
    },
    {
      "cell_type": "markdown",
      "source": [
        "#Step 3:\n",
        "#Finding right solution\n",
        "Since we can have number of lines, we should always find a line which best fits (separates diff categories like obese and non obese)\n",
        "\n",
        "One of the properties of linear equation ax+by+c=0 is for a given a,b,c. If we try to replace a (x,y) value in above equation, it will be either a positive or a negative number\n",
        "So for a random a,b,c values, if we put our (height,weight) we should always get a positive number or a negative number\n",
        "So if the line eq is perfect then all our obese data points will be completely positive then non_obese data points will be completely negative respectively or vice versa\n",
        "\n",
        "ideally if we find a best line which better satisfies above condition\n",
        "\n",
        "This is also called **Loss Function** calculation. And loss should be minimal"
      ],
      "metadata": {
        "id": "S5lYLfV2mZV1"
      }
    },
    {
      "cell_type": "code",
      "source": [
        "def compute_error(X_train, y_train,coefficients,constant):\n",
        "  error = 0\n",
        "  for idx,item in enumerate(X_train):\n",
        "    height = item[0]\n",
        "    weight = item[1]\n",
        "    train_val = y_train[idx]\n",
        "\n",
        "    #print(\"Predicted: \"+str((coefficients[0]*height+coefficients[1]*weight+constant))+\"   \"+\"Actual: \"+str(train_val))\n",
        "\n",
        "    if (coefficients[0]*height+coefficients[1]*weight+constant) <=0 and train_val==\"Obese\":\n",
        "      error += 1\n",
        "    elif (coefficients[0]*height+coefficients[1]*weight+constant) > 0 and train_val==\"Healthy\":\n",
        "      error += 1\n",
        "  return error"
      ],
      "metadata": {
        "id": "LHoDt4PGn-ny"
      },
      "execution_count": 53,
      "outputs": []
    },
    {
      "cell_type": "markdown",
      "source": [
        "#Step 4: Find the Best Algorithm:\n",
        "In this step we consume dataset and then generate a best hypothesis\n",
        "\n",
        "#Step 5: Run Algorithm"
      ],
      "metadata": {
        "id": "pGkQADg7XteW"
      }
    },
    {
      "cell_type": "code",
      "source": [
        "def random_linear_classifier(X_train, y_train, k, d):\n",
        "  best_coefficients = None\n",
        "  best_constant = None\n",
        "  best_error = float('inf')\n",
        "\n",
        "  for i in range(k):\n",
        "    coefficients = np.random.normal(size=2) #[2.3,-0.3]\n",
        "    constant = np.random.normal() #8.7\n",
        "\n",
        "    #print(str(a_b) + \"  \" + str(c))\n",
        "\n",
        "    error = compute_error(X_train,y_train,coefficients,constant)\n",
        "    if error < best_error:\n",
        "      print(\"Iteration: \"+str(i)+\"  Error:\"+str(error))\n",
        "      best_coefficients = coefficients\n",
        "      best_constant = constant\n",
        "      best_error = error\n",
        "\n",
        "  print(\"---------------------\")\n",
        "  print(best_coefficients)\n",
        "  print(best_constant)\n",
        "  print(best_error)\n",
        "  return best_coefficients,best_constant\n"
      ],
      "metadata": {
        "id": "GkMzD7A4g17J"
      },
      "execution_count": 48,
      "outputs": []
    },
    {
      "cell_type": "code",
      "source": [
        "k = 10000\n",
        "best_coefficients,best_constant = random_linear_classifier(X_train,y_train,k,2)"
      ],
      "metadata": {
        "colab": {
          "base_uri": "https://localhost:8080/"
        },
        "id": "WgMNoxmcr7e1",
        "outputId": "4cabf5d5-e408-4c17-e385-fe4ced297d8b"
      },
      "execution_count": 57,
      "outputs": [
        {
          "output_type": "stream",
          "name": "stdout",
          "text": [
            "Iteration: 0  Error:110\n",
            "Iteration: 1  Error:50\n",
            "Iteration: 19  Error:12\n",
            "Iteration: 3842  Error:8\n",
            "---------------------\n",
            "[-1.43333844  0.10307962]\n",
            "0.6046551338380255\n",
            "8\n"
          ]
        }
      ]
    },
    {
      "cell_type": "code",
      "source": [
        "x = np.linspace(5, 6.3, 100)\n",
        "# Calculate corresponding y values for the line\n",
        "y = (-best_coefficients[0] * x - best_constant) / best_coefficients[1] #(-a * x - c) / b\n",
        "\n",
        "# Plot the line\n",
        "plt.plot(x, y,color=\"red\", linestyle=\"--\",label=\"Decision Boundry\")\n",
        "\n",
        "\n",
        "plt.scatter(non_obese_height,non_obese_weight)\n",
        "plt.scatter(obese_height,obese_weight)\n",
        "plt.xlabel(\"Height\")\n",
        "plt.ylabel(\"Weight\")\n",
        "plt.legend([\"Line\",\"Non Obese\",\"Obese\"])\n",
        "#plt.xlim(0)  # Set the lower limit of the x-axis to 0\n",
        "#plt.ylim(0)  # Set the lower limit of the y-axis to 0\n",
        "plt.show()"
      ],
      "metadata": {
        "colab": {
          "base_uri": "https://localhost:8080/",
          "height": 449
        },
        "id": "PkJ3PnL8soLb",
        "outputId": "11be8b60-0207-48b8-e968-c8cafb9319e5"
      },
      "execution_count": 58,
      "outputs": [
        {
          "output_type": "display_data",
          "data": {
            "text/plain": [
              "<Figure size 640x480 with 1 Axes>"
            ],
            "image/png": "[encoded data removed]"
          },
          "metadata": {}
        }
      ]
    },
    {
      "cell_type": "markdown",
      "source": [
        "#Step 6: validate results\n",
        "Lets take a new height and weight and try to find if it is obese or not"
      ],
      "metadata": {
        "id": "7qNKW2c8X-un"
      }
    },
    {
      "cell_type": "code",
      "source": [
        "def test_linear_classifier(height, weight):\n",
        "    # Calculate the predicted BMI using the linear classifier\n",
        "    predicted_bmi = best_coefficients[0] * height + best_coefficients[1] * weight + best_constant\n",
        "\n",
        "    # Classify the person as obese or not based on the predicted BMI\n",
        "    if predicted_bmi >= 0:\n",
        "        return \"Obese\"\n",
        "    else:\n",
        "        return \"Healthy\"\n",
        "\n",
        "\n",
        "for idx,item in enumerate(X_test):\n",
        "    height = item[0]\n",
        "    weight = item[1]\n",
        "    test_val = y_test[idx]\n",
        "\n",
        "    print(\"Weight: \"+str(weight)+\" height: \"+str(height) +\"Predicted:\"+ test_linear_classifier(height,weight)+\"  Actual:\"+test_val)"
      ],
      "metadata": {
        "colab": {
          "base_uri": "https://localhost:8080/"
        },
        "id": "WVZG2uSJHs1Q",
        "outputId": "69fa7031-5e05-44b8-c05d-827ceb88b0b7"
      },
      "execution_count": 64,
      "outputs": [
        {
          "output_type": "stream",
          "name": "stdout",
          "text": [
            "Weight: 63.150296784409804 height: 5.881030010475042Predicted:Healthy  Actual:Healthy\n",
            "Weight: 74.56553381526408 height: 5.50953227479157Predicted:Obese  Actual:Obese\n",
            "Weight: 69.3840894776597 height: 5.350273945047734Predicted:Obese  Actual:Obese\n",
            "Weight: 73.99047739917675 height: 5.707695466321335Predicted:Obese  Actual:Healthy\n",
            "Weight: 60.38569856195659 height: 5.544852488629451Predicted:Healthy  Actual:Healthy\n",
            "Weight: 51.88410440161449 height: 5.603980353218132Predicted:Healthy  Actual:Healthy\n",
            "Weight: 78.26136080628142 height: 5.992507306237157Predicted:Obese  Actual:Healthy\n",
            "Weight: 71.68149120862826 height: 5.579982969801975Predicted:Healthy  Actual:Healthy\n",
            "Weight: 64.29634975555359 height: 5.686448024811301Predicted:Healthy  Actual:Healthy\n",
            "Weight: 89.80055889234876 height: 5.5912155499592Predicted:Obese  Actual:Obese\n",
            "Weight: 70.34791776500525 height: 5.527691618040534Predicted:Healthy  Actual:Healthy\n",
            "Weight: 67.67168596889415 height: 5.527853974735674Predicted:Healthy  Actual:Healthy\n",
            "Weight: 68.1910519576682 height: 5.481284733530685Predicted:Healthy  Actual:Healthy\n",
            "Weight: 40.9444189171318 height: 5.212695226717341Predicted:Healthy  Actual:Healthy\n",
            "Weight: 54.17919141461632 height: 5.820229133120648Predicted:Healthy  Actual:Healthy\n",
            "Weight: 50.056354015078554 height: 5.5292545805514814Predicted:Healthy  Actual:Healthy\n",
            "Weight: 79.95632685001122 height: 5.600448966227063Predicted:Obese  Actual:Obese\n",
            "Weight: 66.38233357519967 height: 5.603039125442526Predicted:Healthy  Actual:Healthy\n",
            "Weight: 77.01986984882345 height: 5.822980901505314Predicted:Obese  Actual:Healthy\n",
            "Weight: 60.41505360950801 height: 5.238827796337179Predicted:Healthy  Actual:Healthy\n",
            "Weight: 72.29355710588871 height: 5.779375064301982Predicted:Healthy  Actual:Healthy\n",
            "Weight: 82.49960021403663 height: 5.642378770378961Predicted:Obese  Actual:Obese\n",
            "Weight: 55.20540756683435 height: 5.445254109648398Predicted:Healthy  Actual:Healthy\n",
            "Weight: 67.82744204897378 height: 5.658506040598878Predicted:Healthy  Actual:Healthy\n",
            "Weight: 58.320152158356876 height: 5.304393593693067Predicted:Healthy  Actual:Healthy\n",
            "Weight: 71.18967659375126 height: 5.686228432412379Predicted:Healthy  Actual:Healthy\n",
            "Weight: 61.238769606922375 height: 5.800846640082552Predicted:Healthy  Actual:Healthy\n",
            "Weight: 70.63075730432189 height: 5.6238184610969695Predicted:Healthy  Actual:Healthy\n",
            "Weight: 58.77098782808794 height: 5.185384823034053Predicted:Healthy  Actual:Healthy\n",
            "Weight: 62.411755337914855 height: 5.694509532607777Predicted:Healthy  Actual:Healthy\n",
            "Weight: 71.82866537011 height: 5.332626271646805Predicted:Obese  Actual:Obese\n",
            "Weight: 87.62609764374798 height: 5.648644269627065Predicted:Obese  Actual:Obese\n",
            "Weight: 77.53290022490266 height: 5.704491675210689Predicted:Obese  Actual:Obese\n",
            "Weight: 77.37462388954134 height: 5.9459397412694015Predicted:Obese  Actual:Healthy\n",
            "Weight: 40.745819548536986 height: 5.591170629413497Predicted:Healthy  Actual:Healthy\n",
            "Weight: 65.6508447468055 height: 5.678113750524124Predicted:Healthy  Actual:Healthy\n",
            "Weight: 30.99130661562491 height: 4.85893195648745Predicted:Healthy  Actual:Healthy\n",
            "Weight: 69.13433445532134 height: 5.668513132880149Predicted:Healthy  Actual:Healthy\n",
            "Weight: 69.14457530480067 height: 5.7904971215094045Predicted:Healthy  Actual:Healthy\n",
            "Weight: 63.01657229176456 height: 5.445363687978354Predicted:Healthy  Actual:Healthy\n"
          ]
        }
      ]
    },
    {
      "cell_type": "markdown",
      "source": [
        "#Discuss about Hyper parameters\n",
        "#Discuss about loss functions\n",
        "#Discuss about Math, possible use of np.dot()"
      ],
      "metadata": {
        "id": "6zUzNdomX6ri"
      }
    }
  ],
  "metadata": {
    "language_info": {
      "name": "python"
    },
    "colab": {
      "provenance": []
    },
    "kernelspec": {
      "name": "python3",
      "display_name": "Python 3"
    }
  },
  "nbformat": 4,
  "nbformat_minor": 0
}