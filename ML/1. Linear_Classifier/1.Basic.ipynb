{
  "cells": [
    {
      "cell_type": "code",
      "source": [
        "!pip install numpy\n",
        "!pip install matplotlib\n",
        "!pip install pandas"
      ],
      "metadata": {
        "colab": {
          "base_uri": "https://localhost:8080/"
        },
        "id": "SZpchLkKFhRQ",
        "outputId": "47d14c8e-5cdf-436c-e0db-eb2325b5ea6c"
      },
      "execution_count": null,
      "outputs": [
        {
          "output_type": "stream",
          "name": "stdout",
          "text": [
            "Requirement already satisfied: numpy in /usr/local/lib/python3.11/dist-packages (1.26.4)\n",
            "Requirement already satisfied: matplotlib in /usr/local/lib/python3.11/dist-packages (3.10.0)\n",
            "Requirement already satisfied: contourpy>=1.0.1 in /usr/local/lib/python3.11/dist-packages (from matplotlib) (1.3.1)\n",
            "Requirement already satisfied: cycler>=0.10 in /usr/local/lib/python3.11/dist-packages (from matplotlib) (0.12.1)\n",
            "Requirement already satisfied: fonttools>=4.22.0 in /usr/local/lib/python3.11/dist-packages (from matplotlib) (4.55.7)\n",
            "Requirement already satisfied: kiwisolver>=1.3.1 in /usr/local/lib/python3.11/dist-packages (from matplotlib) (1.4.8)\n",
            "Requirement already satisfied: numpy>=1.23 in /usr/local/lib/python3.11/dist-packages (from matplotlib) (1.26.4)\n",
            "Requirement already satisfied: packaging>=20.0 in /usr/local/lib/python3.11/dist-packages (from matplotlib) (24.2)\n",
            "Requirement already satisfied: pillow>=8 in /usr/local/lib/python3.11/dist-packages (from matplotlib) (11.1.0)\n",
            "Requirement already satisfied: pyparsing>=2.3.1 in /usr/local/lib/python3.11/dist-packages (from matplotlib) (3.2.1)\n",
            "Requirement already satisfied: python-dateutil>=2.7 in /usr/local/lib/python3.11/dist-packages (from matplotlib) (2.8.2)\n",
            "Requirement already satisfied: six>=1.5 in /usr/local/lib/python3.11/dist-packages (from python-dateutil>=2.7->matplotlib) (1.17.0)\n",
            "Requirement already satisfied: pandas in /usr/local/lib/python3.11/dist-packages (2.2.2)\n",
            "Requirement already satisfied: numpy>=1.23.2 in /usr/local/lib/python3.11/dist-packages (from pandas) (1.26.4)\n",
            "Requirement already satisfied: python-dateutil>=2.8.2 in /usr/local/lib/python3.11/dist-packages (from pandas) (2.8.2)\n",
            "Requirement already satisfied: pytz>=2020.1 in /usr/local/lib/python3.11/dist-packages (from pandas) (2024.2)\n",
            "Requirement already satisfied: tzdata>=2022.7 in /usr/local/lib/python3.11/dist-packages (from pandas) (2025.1)\n",
            "Requirement already satisfied: six>=1.5 in /usr/local/lib/python3.11/dist-packages (from python-dateutil>=2.8.2->pandas) (1.17.0)\n"
          ]
        }
      ]
    },
    {
      "cell_type": "code",
      "execution_count": 13,
      "metadata": {
        "vscode": {
          "languageId": "plaintext"
        },
        "id": "fvow2SzUFMy0"
      },
      "outputs": [],
      "source": [
        "import numpy as np\n",
        "import matplotlib.pyplot as plt\n",
        "import pandas as pd"
      ]
    },
    {
      "cell_type": "markdown",
      "source": [
        "#Step1:\n",
        "Processing Input Data, In this case we will simply generate input data using numpy.\n",
        "\n",
        "Lets take height and weight of 30 people"
      ],
      "metadata": {
        "id": "JlPmLrXrIrMY"
      }
    },
    {
      "cell_type": "code",
      "source": [
        "import numpy as np\n",
        "import pandas as pd\n",
        "\n",
        "def generate_adult_data(num_samples, min_age=30):\n",
        "    data = []\n",
        "    for _ in range(num_samples):\n",
        "        # Realistic height generation (adjust means and stds based on population data)\n",
        "        height_cm = np.random.normal(170, 7)  # Example: Mean 170cm, std dev 7cm.  Adjust these!!!\n",
        "        height_feet = height_cm * 0.0328084\n",
        "\n",
        "        # Weight generation correlated with height and age (more sophisticated)\n",
        "        # This is a simplified example.  Real-world weight is influenced by many factors.\n",
        "        base_weight = (height_cm - 100)  # A very rough estimate, adjust this relationship\n",
        "        weight_variation = np.random.normal(0, 10)  # Add some random variation\n",
        "        weight_kg = base_weight + weight_variation\n",
        "\n",
        "        # Ensure weight is not negative\n",
        "        weight_kg = max(1, weight_kg) # set the floor to 1 kg\n",
        "\n",
        "        bmi = weight_kg / (height_cm / 100)**2\n",
        "\n",
        "        # More nuanced obesity classification (adjust thresholds as needed)\n",
        "        if bmi < 18.5:\n",
        "            obese = \"Normal\"\n",
        "        elif bmi < 25:\n",
        "            obese = \"Normal\"\n",
        "        elif bmi < 30:\n",
        "            obese = \"Obese\"\n",
        "        else:\n",
        "            obese = \"Obese\"\n",
        "\n",
        "        data.append([0,height_feet, weight_kg, obese])\n",
        "\n",
        "    return pd.DataFrame(data, columns=[\"Age\", \"Height in feet\", \"Weight in Kg\", \"Obese or not\"])\n",
        "\n",
        "\n",
        "# Generate 1000 samples\n",
        "num_samples = 200\n",
        "df = generate_adult_data(num_samples)\n",
        "\n",
        "print(df)"
      ],
      "metadata": {
        "id": "2OVUC81BD4ak",
        "outputId": "3758b8a8-ca38-461e-fcfb-ae5cb3561d3c",
        "colab": {
          "base_uri": "https://localhost:8080/"
        }
      },
      "execution_count": 2,
      "outputs": [
        {
          "output_type": "stream",
          "name": "stdout",
          "text": [
            "     Age  Height in feet  Weight in Kg Obese or not\n",
            "0      0        5.169956     61.318149       Normal\n",
            "1      0        5.147396     59.041156       Normal\n",
            "2      0        5.398609     77.819900        Obese\n",
            "3      0        5.654006     70.528316       Normal\n",
            "4      0        5.214868     56.208020       Normal\n",
            "..   ...             ...           ...          ...\n",
            "195    0        5.397183     67.066414       Normal\n",
            "196    0        5.179889     73.768786        Obese\n",
            "197    0        5.133459     47.774851       Normal\n",
            "198    0        5.455695     65.317599       Normal\n",
            "199    0        5.893725     77.206107       Normal\n",
            "\n",
            "[200 rows x 4 columns]\n"
          ]
        }
      ]
    },
    {
      "cell_type": "code",
      "source": [
        "# from google.colab import drive\n",
        "# drive.mount('/content/drive')\n",
        "# df = pd.read_csv(\"/content/drive/MyDrive/Colab Notebooks/content/height_weight_balanced_obese_samples.csv\")"
      ],
      "metadata": {
        "id": "mm7yFbRJ9i7Z"
      },
      "execution_count": null,
      "outputs": []
    },
    {
      "cell_type": "code",
      "source": [
        "# prompt: split dataframe into 2 dataframes based on column value\n",
        "\n",
        "df_obese = df[df.iloc[:,3] == \"Obese\"]\n",
        "df_healthy = df[df.iloc[:,3] == \"Normal\"]\n",
        "\n",
        "non_obese_height = df_healthy.iloc[:,1].to_numpy()   #np.random.normal(loc=5.5,size=30,scale=0.5)\n",
        "non_obese_weight = df_healthy.iloc[:,2].to_numpy() #np.random.normal(loc=60,size=30,scale=2.5)\n",
        "obese_height = df_obese.iloc[:,1].to_numpy()\n",
        "obese_weight = df_obese.iloc[:,2].to_numpy()\n"
      ],
      "metadata": {
        "id": "E0DatBKz95i9"
      },
      "execution_count": 4,
      "outputs": []
    },
    {
      "cell_type": "code",
      "source": [
        "plt.scatter(non_obese_height,non_obese_weight)\n",
        "plt.scatter(obese_height,obese_weight)\n",
        "plt.xlabel(\"Height\")\n",
        "plt.ylabel(\"Weight\")\n",
        "plt.legend([\"Non Obese\",\"Obese\"])\n",
        "plt.show()"
      ],
      "metadata": {
        "colab": {
          "base_uri": "https://localhost:8080/",
          "height": 449
        },
        "id": "pXFRNaxhMm2_",
        "outputId": "c1520d7e-3bbb-4d4a-9b0b-f46b72dcf977"
      },
      "execution_count": null,
      "outputs": [
        {
          "output_type": "display_data",
          "data": {
            "text/plain": [
              "<Figure size 640x480 with 1 Axes>"
            ],
            "image/png": "[encoded data removed]"
          },
          "metadata": {}
        }
      ]
    },
    {
      "cell_type": "markdown",
      "source": [
        "#Step 2\n",
        "Space of All possible solutions(Hypothesis)\n",
        "\n",
        "For x -> Hypothesis -> Y\n",
        "\n",
        "Lets Build a classifier line that separates people who are obese and not. It can be a straight line that separates both categories\n",
        "\n",
        "Linear algebra equation for a straight line\n",
        "ax+by+c=0\n",
        "x = height\n",
        "y = weight\n",
        "\n",
        "This is a standard form of line\n",
        "\n",
        "https://www.youtube.com/watch?v=-DnmoFnQUtk\n",
        "\n"
      ],
      "metadata": {
        "id": "FR_ymn8XZjaN"
      }
    },
    {
      "cell_type": "code",
      "source": [
        "\n",
        "non_obese_arr = np.array([non_obese_height,non_obese_weight])\n",
        "obese_arr= np.array([obese_height,obese_weight])\n",
        "\n",
        "obese_arr_1 = np.array([list(row) for row in zip(obese_arr[0], obese_arr[1])])\n",
        "non_obese_arr_1 = np.array([list(row) for row in zip(non_obese_arr[0], non_obese_arr[1])])\n",
        "\n"
      ],
      "metadata": {
        "id": "k6fTuBUvZ102"
      },
      "execution_count": 7,
      "outputs": []
    },
    {
      "cell_type": "markdown",
      "source": [
        "#Step 3:\n",
        "#Finding right solution\n",
        "Since we can have number of lines, we should always find a line which best fits (separates diff categories like obese and non obese)\n",
        "\n",
        "One of the properties of linear equation ax+by+c=0 is for a given a,b,c. If we try to replace a (x,y) value in above equation, it will be either a positive or a negative number\n",
        "So for a random a,b,c values, if we put our (height,weight) we should always get a positive number or a negative number\n",
        "So if the line eq is perfect then all our obese data points will be completely positive then non_obese data points will be completely negative respectively or vice versa\n",
        "\n",
        "ideally if we find a best line which better satisfies above condition\n",
        "\n",
        "This is also called **Loss Function** calculation. And loss should be minimal"
      ],
      "metadata": {
        "id": "S5lYLfV2mZV1"
      }
    },
    {
      "cell_type": "code",
      "source": [
        "def compute_error(obese_items,non_obese_items,a_b_1,c1):\n",
        "  error = 0\n",
        "  for obese_item in obese_items:\n",
        "    x = obese_item[0]\n",
        "    y = obese_item[1]\n",
        "\n",
        "    #print(str(x)+\"  \"+str(y)+\"   \"+str(a_b_1[0]*x+a_b_1[1]*y+c1) + \"  \"+str(a_b_1[0])+\"  \"+str(a_b_1[1])+\"  \"+str(c1))\n",
        "\n",
        "    if (a_b_1[0]*x+a_b_1[1]*y+c1) <=0:\n",
        "      error += 1\n",
        "  #print(\"-------------------------------------------------------\" + str(error))\n",
        "  for non_obese_item in non_obese_items:\n",
        "    x = non_obese_item[0]\n",
        "    y = non_obese_item[1]\n",
        "    #print(str(x)+\"  \"+str(y)+\"   \"+str(a_b_1[0]*x+a_b_1[1]*y+c1) + \"  \"+str(a_b_1[0])+\"  \"+str(a_b_1[1])+\"  \"+str(c1))\n",
        "    if (a_b_1[0]*x+a_b_1[1]*y+c1) >=0:\n",
        "      error += 1\n",
        "  #print(\"^^^^^^^^^^^^^^^^^^^^^^^^^^^^^^^^^^^^^^^^^^^^^^^^^^^^\" + str(error))\n",
        "  return error"
      ],
      "metadata": {
        "id": "LHoDt4PGn-ny"
      },
      "execution_count": 8,
      "outputs": []
    },
    {
      "cell_type": "markdown",
      "source": [
        "#Step 4: Find the Best Algorithm:\n",
        "In this step we consume dataset and then generate a best hypothesis\n",
        "\n",
        "#Step 5: Run Algorithm"
      ],
      "metadata": {
        "id": "pGkQADg7XteW"
      }
    },
    {
      "cell_type": "code",
      "source": [
        "k = 50000\n",
        "best_a_b = None\n",
        "best_c = None\n",
        "best_error = float('inf')\n",
        "\n",
        "for i in range(k):\n",
        "  a_b = np.random.normal(size=2) #[2.3,-0.3]\n",
        "  c = np.random.normal() #8.7\n",
        "\n",
        "  #print(str(a_b) + \"  \" + str(c))\n",
        "\n",
        "  error = compute_error(obese_arr_1,non_obese_arr_1,a_b,c)\n",
        "  if error < best_error:\n",
        "    print(\"Iteration: \"+str(i)+\"  Error:\"+str(error))\n",
        "    best_a_b = a_b\n",
        "    best_c = c\n",
        "    best_error = error\n",
        "\n",
        "print(\"---------------------\")\n",
        "print(best_a_b)\n",
        "print(best_c)\n",
        "print(best_error)"
      ],
      "metadata": {
        "colab": {
          "base_uri": "https://localhost:8080/"
        },
        "id": "WgMNoxmcr7e1",
        "outputId": "89f5cc94-789c-45fd-e48d-fb4b91b20c56"
      },
      "execution_count": 17,
      "outputs": [
        {
          "output_type": "stream",
          "name": "stdout",
          "text": [
            "Iteration: 0  Error:130\n",
            "Iteration: 2  Error:70\n",
            "Iteration: 25  Error:57\n",
            "Iteration: 764  Error:55\n",
            "Iteration: 1393  Error:52\n",
            "Iteration: 1524  Error:12\n",
            "Iteration: 11569  Error:10\n",
            "---------------------\n",
            "[-0.75243194  0.03956417]\n",
            "1.272577518004515\n",
            "10\n"
          ]
        }
      ]
    },
    {
      "cell_type": "code",
      "source": [
        "x = np.linspace(5, 6.3, 100)\n",
        "# Calculate corresponding y values for the line\n",
        "y = (-best_a_b[0] * x - best_c) / best_a_b[1] #(-a * x - c) / b\n",
        "\n",
        "# Plot the line\n",
        "plt.plot(x, y)\n",
        "\n",
        "\n",
        "plt.scatter(non_obese_height,non_obese_weight)\n",
        "plt.scatter(obese_height,obese_weight)\n",
        "plt.xlabel(\"Height\")\n",
        "plt.ylabel(\"Weight\")\n",
        "plt.legend([\"Line\",\"Non Obese\",\"Obese\"])\n",
        "#plt.xlim(0)  # Set the lower limit of the x-axis to 0\n",
        "#plt.ylim(0)  # Set the lower limit of the y-axis to 0\n",
        "plt.show()"
      ],
      "metadata": {
        "colab": {
          "base_uri": "https://localhost:8080/",
          "height": 449
        },
        "id": "PkJ3PnL8soLb",
        "outputId": "39dba9ea-70e8-41d1-a9b2-0e7b2c8b65f8"
      },
      "execution_count": 18,
      "outputs": [
        {
          "output_type": "display_data",
          "data": {
            "text/plain": [
              "<Figure size 640x480 with 1 Axes>"
            ],
            "image/png": "[encoded data removed]"
          },
          "metadata": {}
        }
      ]
    },
    {
      "cell_type": "markdown",
      "source": [
        "#Step 6: validate results\n",
        "Lets take a new height and weight and try to find if it is obese or not"
      ],
      "metadata": {
        "id": "7qNKW2c8X-un"
      }
    },
    {
      "cell_type": "code",
      "source": [
        "def test_linear_classifier(height, weight):\n",
        "    # Calculate the predicted BMI using the linear classifier\n",
        "    predicted_bmi = best_a_b[0] * height + best_a_b[1] * weight + best_c\n",
        "\n",
        "    # Classify the person as obese or not based on the predicted BMI\n",
        "    if predicted_bmi >= 0:\n",
        "        return \"Obese\"\n",
        "    else:\n",
        "        return \"Not obese\"\n",
        "\n",
        "print(test_linear_classifier(5.5,60))"
      ],
      "metadata": {
        "colab": {
          "base_uri": "https://localhost:8080/"
        },
        "id": "WVZG2uSJHs1Q",
        "outputId": "e1310e65-5df2-4ceb-e0da-5c8136d03e76"
      },
      "execution_count": 16,
      "outputs": [
        {
          "output_type": "stream",
          "name": "stdout",
          "text": [
            "Not obese\n"
          ]
        }
      ]
    },
    {
      "cell_type": "markdown",
      "source": [
        "#Discuss about Hyper parameters\n",
        "#Discuss about loss functions\n",
        "#Discuss about Math, possible use of np.dot()"
      ],
      "metadata": {
        "id": "6zUzNdomX6ri"
      }
    }
  ],
  "metadata": {
    "language_info": {
      "name": "python"
    },
    "colab": {
      "provenance": []
    },
    "kernelspec": {
      "name": "python3",
      "display_name": "Python 3"
    }
  },
  "nbformat": 4,
  "nbformat_minor": 0
}