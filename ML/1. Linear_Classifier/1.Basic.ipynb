{
  "cells": [
    {
      "cell_type": "code",
      "source": [
        "!pip install numpy\n",
        "!pip install matplotlib\n",
        "!pip install pandas"
      ],
      "metadata": {
        "colab": {
          "base_uri": "https://localhost:8080/"
        },
        "id": "SZpchLkKFhRQ",
        "outputId": "b0a62eee-2be3-4f06-e4e0-d9e9bedf783a"
      },
      "execution_count": 1,
      "outputs": [
        {
          "output_type": "stream",
          "name": "stdout",
          "text": [
            "Requirement already satisfied: numpy in /usr/local/lib/python3.11/dist-packages (1.26.4)\n",
            "Requirement already satisfied: matplotlib in /usr/local/lib/python3.11/dist-packages (3.10.0)\n",
            "Requirement already satisfied: contourpy>=1.0.1 in /usr/local/lib/python3.11/dist-packages (from matplotlib) (1.3.1)\n",
            "Requirement already satisfied: cycler>=0.10 in /usr/local/lib/python3.11/dist-packages (from matplotlib) (0.12.1)\n",
            "Requirement already satisfied: fonttools>=4.22.0 in /usr/local/lib/python3.11/dist-packages (from matplotlib) (4.55.7)\n",
            "Requirement already satisfied: kiwisolver>=1.3.1 in /usr/local/lib/python3.11/dist-packages (from matplotlib) (1.4.8)\n",
            "Requirement already satisfied: numpy>=1.23 in /usr/local/lib/python3.11/dist-packages (from matplotlib) (1.26.4)\n",
            "Requirement already satisfied: packaging>=20.0 in /usr/local/lib/python3.11/dist-packages (from matplotlib) (24.2)\n",
            "Requirement already satisfied: pillow>=8 in /usr/local/lib/python3.11/dist-packages (from matplotlib) (11.1.0)\n",
            "Requirement already satisfied: pyparsing>=2.3.1 in /usr/local/lib/python3.11/dist-packages (from matplotlib) (3.2.1)\n",
            "Requirement already satisfied: python-dateutil>=2.7 in /usr/local/lib/python3.11/dist-packages (from matplotlib) (2.8.2)\n",
            "Requirement already satisfied: six>=1.5 in /usr/local/lib/python3.11/dist-packages (from python-dateutil>=2.7->matplotlib) (1.17.0)\n",
            "Requirement already satisfied: pandas in /usr/local/lib/python3.11/dist-packages (2.2.2)\n",
            "Requirement already satisfied: numpy>=1.23.2 in /usr/local/lib/python3.11/dist-packages (from pandas) (1.26.4)\n",
            "Requirement already satisfied: python-dateutil>=2.8.2 in /usr/local/lib/python3.11/dist-packages (from pandas) (2.8.2)\n",
            "Requirement already satisfied: pytz>=2020.1 in /usr/local/lib/python3.11/dist-packages (from pandas) (2024.2)\n",
            "Requirement already satisfied: tzdata>=2022.7 in /usr/local/lib/python3.11/dist-packages (from pandas) (2025.1)\n",
            "Requirement already satisfied: six>=1.5 in /usr/local/lib/python3.11/dist-packages (from python-dateutil>=2.8.2->pandas) (1.17.0)\n"
          ]
        }
      ]
    },
    {
      "cell_type": "code",
      "execution_count": 2,
      "metadata": {
        "vscode": {
          "languageId": "plaintext"
        },
        "id": "fvow2SzUFMy0"
      },
      "outputs": [],
      "source": [
        "import numpy as np\n",
        "import matplotlib.pyplot as plt\n",
        "import pandas as pd"
      ]
    },
    {
      "cell_type": "markdown",
      "source": [
        "#Step1:\n",
        "Processing Input Data, In this case we will simply generate input data using numpy.\n",
        "\n",
        "Lets take height and weight of 30 people"
      ],
      "metadata": {
        "id": "JlPmLrXrIrMY"
      }
    },
    {
      "cell_type": "code",
      "source": [
        "import numpy as np\n",
        "import pandas as pd\n",
        "\n",
        "def generate_adult_data(num_samples, min_age=30):\n",
        "    data = []\n",
        "    for _ in range(num_samples):\n",
        "        # Realistic height generation (adjust means and stds based on population data)\n",
        "        height_cm = np.random.normal(170, 7)  # Example: Mean 170cm, std dev 7cm.  Adjust these!!!\n",
        "        height_feet = height_cm * 0.0328084\n",
        "\n",
        "        # Weight generation correlated with height and age (more sophisticated)\n",
        "        # This is a simplified example.  Real-world weight is influenced by many factors.\n",
        "        base_weight = (height_cm - 100)  # A very rough estimate, adjust this relationship\n",
        "        weight_variation = np.random.normal(0, 10)  # Add some random variation\n",
        "        weight_kg = base_weight + weight_variation\n",
        "\n",
        "        # Ensure weight is not negative\n",
        "        weight_kg = max(1, weight_kg) # set the floor to 1 kg\n",
        "\n",
        "        bmi = weight_kg / (height_cm / 100)**2\n",
        "\n",
        "        # More nuanced obesity classification (adjust thresholds as needed)\n",
        "        if bmi < 18.5:\n",
        "            obese = \"Normal\"\n",
        "        elif bmi < 25:\n",
        "            obese = \"Normal\"\n",
        "        elif bmi < 30:\n",
        "            obese = \"Obese\"\n",
        "        else:\n",
        "            obese = \"Obese\"\n",
        "\n",
        "        data.append([0,height_feet, weight_kg, obese])\n",
        "\n",
        "    return pd.DataFrame(data, columns=[\"Age\", \"Height in feet\", \"Weight in Kg\", \"Obese or not\"])\n",
        "\n",
        "\n",
        "# Generate 1000 samples\n",
        "num_samples = 200\n",
        "df = generate_adult_data(num_samples)\n",
        "\n",
        "print(df)"
      ],
      "metadata": {
        "id": "2OVUC81BD4ak",
        "colab": {
          "base_uri": "https://localhost:8080/"
        },
        "outputId": "12fd3fcd-baf3-49d4-d75e-c516cff8fb9d"
      },
      "execution_count": 3,
      "outputs": [
        {
          "output_type": "stream",
          "name": "stdout",
          "text": [
            "     Age  Height in feet  Weight in Kg Obese or not\n",
            "0      0        5.400427     66.715892       Normal\n",
            "1      0        5.399462     78.973712        Obese\n",
            "2      0        5.846418     84.442976        Obese\n",
            "3      0        5.781881     80.687491        Obese\n",
            "4      0        5.346593     60.887730       Normal\n",
            "..   ...             ...           ...          ...\n",
            "195    0        5.252777     62.557183       Normal\n",
            "196    0        5.762679     66.919893       Normal\n",
            "197    0        5.355285     51.683409       Normal\n",
            "198    0        5.913559     78.621430       Normal\n",
            "199    0        5.819648     85.274360        Obese\n",
            "\n",
            "[200 rows x 4 columns]\n"
          ]
        }
      ]
    },
    {
      "cell_type": "code",
      "source": [
        "# from google.colab import drive\n",
        "# drive.mount('/content/drive')\n",
        "# df = pd.read_csv(\"/content/drive/MyDrive/Colab Notebooks/content/height_weight_balanced_obese_samples.csv\")"
      ],
      "metadata": {
        "id": "mm7yFbRJ9i7Z"
      },
      "execution_count": 4,
      "outputs": []
    },
    {
      "cell_type": "code",
      "source": [
        "# prompt: split dataframe into 2 dataframes based on column value\n",
        "\n",
        "df_obese = df[df.iloc[:,3] == \"Obese\"]\n",
        "df_healthy = df[df.iloc[:,3] == \"Normal\"]\n",
        "\n",
        "non_obese_height = df_healthy.iloc[:,1].to_numpy()   #np.random.normal(loc=5.5,size=30,scale=0.5)\n",
        "non_obese_weight = df_healthy.iloc[:,2].to_numpy() #np.random.normal(loc=60,size=30,scale=2.5)\n",
        "obese_height = df_obese.iloc[:,1].to_numpy()\n",
        "obese_weight = df_obese.iloc[:,2].to_numpy()\n"
      ],
      "metadata": {
        "id": "E0DatBKz95i9"
      },
      "execution_count": 5,
      "outputs": []
    },
    {
      "cell_type": "code",
      "source": [
        "plt.scatter(non_obese_height,non_obese_weight)\n",
        "plt.scatter(obese_height,obese_weight)\n",
        "plt.xlabel(\"Height\")\n",
        "plt.ylabel(\"Weight\")\n",
        "plt.legend([\"Non Obese\",\"Obese\"])\n",
        "plt.show()"
      ],
      "metadata": {
        "colab": {
          "base_uri": "https://localhost:8080/",
          "height": 449
        },
        "id": "pXFRNaxhMm2_",
        "outputId": "84671884-b1d7-4d8e-ced3-74e270b8d7ec"
      },
      "execution_count": 6,
      "outputs": [
        {
          "output_type": "display_data",
          "data": {
            "text/plain": [
              "<Figure size 640x480 with 1 Axes>"
            ],
            "image/png": "[encoded data removed]"
          },
          "metadata": {}
        }
      ]
    },
    {
      "cell_type": "markdown",
      "source": [
        "#Step 2\n",
        "Space of All possible solutions(Hypothesis)\n",
        "\n",
        "For x -> Hypothesis -> Y\n",
        "\n",
        "Lets Build a classifier line that separates people who are obese and not. It can be a straight line that separates both categories\n",
        "\n",
        "Linear algebra equation for a straight line\n",
        "ax+by+c=0\n",
        "x = height\n",
        "y = weight\n",
        "\n",
        "This is a standard form of line\n",
        "\n",
        "https://www.youtube.com/watch?v=-DnmoFnQUtk\n",
        "\n"
      ],
      "metadata": {
        "id": "FR_ymn8XZjaN"
      }
    },
    {
      "cell_type": "code",
      "source": [
        "\n",
        "non_obese_arr = np.array([non_obese_height,non_obese_weight])\n",
        "obese_arr= np.array([obese_height,obese_weight])\n",
        "\n",
        "obese_arr_1 = np.array([list(row) for row in zip(obese_arr[0], obese_arr[1])])\n",
        "non_obese_arr_1 = np.array([list(row) for row in zip(non_obese_arr[0], non_obese_arr[1])])\n",
        "\n"
      ],
      "metadata": {
        "id": "k6fTuBUvZ102"
      },
      "execution_count": 7,
      "outputs": []
    },
    {
      "cell_type": "markdown",
      "source": [
        "#Step 3:\n",
        "#Finding right solution\n",
        "Since we can have number of lines, we should always find a line which best fits (separates diff categories like obese and non obese)\n",
        "\n",
        "One of the properties of linear equation ax+by+c=0 is for a given a,b,c. If we try to replace a (x,y) value in above equation, it will be either a positive or a negative number\n",
        "So for a random a,b,c values, if we put our (height,weight) we should always get a positive number or a negative number\n",
        "So if the line eq is perfect then all our obese data points will be completely positive then non_obese data points will be completely negative respectively or vice versa\n",
        "\n",
        "ideally if we find a best line which better satisfies above condition\n",
        "\n",
        "This is also called **Loss Function** calculation. And loss should be minimal"
      ],
      "metadata": {
        "id": "S5lYLfV2mZV1"
      }
    },
    {
      "cell_type": "code",
      "source": [
        "def compute_error(obese_items,non_obese_items,a_b_1,c1):\n",
        "  error = 0\n",
        "  for obese_item in obese_items:\n",
        "    x = obese_item[0]\n",
        "    y = obese_item[1]\n",
        "\n",
        "    #print(str(x)+\"  \"+str(y)+\"   \"+str(a_b_1[0]*x+a_b_1[1]*y+c1) + \"  \"+str(a_b_1[0])+\"  \"+str(a_b_1[1])+\"  \"+str(c1))\n",
        "\n",
        "    if (a_b_1[0]*x+a_b_1[1]*y+c1) <=0:\n",
        "      error += 1\n",
        "  #print(\"-------------------------------------------------------\" + str(error))\n",
        "  for non_obese_item in non_obese_items:\n",
        "    x = non_obese_item[0]\n",
        "    y = non_obese_item[1]\n",
        "    #print(str(x)+\"  \"+str(y)+\"   \"+str(a_b_1[0]*x+a_b_1[1]*y+c1) + \"  \"+str(a_b_1[0])+\"  \"+str(a_b_1[1])+\"  \"+str(c1))\n",
        "    if (a_b_1[0]*x+a_b_1[1]*y+c1) >=0:\n",
        "      error += 1\n",
        "  #print(\"^^^^^^^^^^^^^^^^^^^^^^^^^^^^^^^^^^^^^^^^^^^^^^^^^^^^\" + str(error))\n",
        "  return error"
      ],
      "metadata": {
        "id": "LHoDt4PGn-ny"
      },
      "execution_count": 8,
      "outputs": []
    },
    {
      "cell_type": "markdown",
      "source": [
        "#Step 4: Find the Best Algorithm:\n",
        "In this step we consume dataset and then generate a best hypothesis\n",
        "\n",
        "#Step 5: Run Algorithm"
      ],
      "metadata": {
        "id": "pGkQADg7XteW"
      }
    },
    {
      "cell_type": "code",
      "source": [
        "k = 50000\n",
        "best_a_b = None\n",
        "best_c = None\n",
        "best_error = float('inf')\n",
        "\n",
        "for i in range(k):\n",
        "  a_b = np.random.normal(size=2) #[2.3,-0.3]\n",
        "  c = np.random.normal() #8.7\n",
        "\n",
        "  #print(str(a_b) + \"  \" + str(c))\n",
        "\n",
        "  error = compute_error(obese_arr_1,non_obese_arr_1,a_b,c)\n",
        "  if error < best_error:\n",
        "    print(\"Iteration: \"+str(i)+\"  Error:\"+str(error)+\"  Best Error:\"+str(best_error))\n",
        "    best_a_b = a_b\n",
        "    best_c = c\n",
        "    best_error = error\n",
        "\n",
        "print(\"---------------------\")\n",
        "print(best_a_b)\n",
        "print(best_c)\n",
        "print(best_error)"
      ],
      "metadata": {
        "colab": {
          "base_uri": "https://localhost:8080/"
        },
        "id": "WgMNoxmcr7e1",
        "outputId": "528122f8-bddf-4927-de1d-4e400797a7fb"
      },
      "execution_count": 9,
      "outputs": [
        {
          "output_type": "stream",
          "name": "stdout",
          "text": [
            "Iteration: 0  Error:82  Best Error:inf\n",
            "Iteration: 172  Error:51  Best Error:82\n",
            "Iteration: 722  Error:50  Best Error:51\n",
            "Iteration: 1109  Error:13  Best Error:50\n",
            "Iteration: 2501  Error:9  Best Error:13\n",
            "Iteration: 30524  Error:3  Best Error:9\n",
            "---------------------\n",
            "[-0.7173015   0.02521254]\n",
            "2.190326750680516\n",
            "3\n"
          ]
        }
      ]
    },
    {
      "cell_type": "code",
      "source": [
        "x = np.linspace(5, 6.3, 100)\n",
        "# Calculate corresponding y values for the line\n",
        "y = (-best_a_b[0] * x - best_c) / best_a_b[1] #(-a * x - c) / b\n",
        "\n",
        "# Plot the line\n",
        "plt.plot(x, y)\n",
        "\n",
        "\n",
        "plt.scatter(non_obese_height,non_obese_weight)\n",
        "plt.scatter(obese_height,obese_weight)\n",
        "plt.xlabel(\"Height\")\n",
        "plt.ylabel(\"Weight\")\n",
        "plt.legend([\"Line\",\"Non Obese\",\"Obese\"])\n",
        "#plt.xlim(0)  # Set the lower limit of the x-axis to 0\n",
        "#plt.ylim(0)  # Set the lower limit of the y-axis to 0\n",
        "plt.show()"
      ],
      "metadata": {
        "colab": {
          "base_uri": "https://localhost:8080/",
          "height": 449
        },
        "id": "PkJ3PnL8soLb",
        "outputId": "a99bae7c-9be4-42a9-f617-b5bbdcdbedf1"
      },
      "execution_count": 10,
      "outputs": [
        {
          "output_type": "display_data",
          "data": {
            "text/plain": [
              "<Figure size 640x480 with 1 Axes>"
            ],
            "image/png": "[encoded data removed]"
          },
          "metadata": {}
        }
      ]
    },
    {
      "cell_type": "markdown",
      "source": [
        "#Step 6: validate results\n",
        "Lets take a new height and weight and try to find if it is obese or not"
      ],
      "metadata": {
        "id": "7qNKW2c8X-un"
      }
    },
    {
      "cell_type": "code",
      "source": [
        "def test_linear_classifier(height, weight):\n",
        "    # Calculate the predicted BMI using the linear classifier\n",
        "    predicted_bmi = best_a_b[0] * height + best_a_b[1] * weight + best_c\n",
        "\n",
        "    # Classify the person as obese or not based on the predicted BMI\n",
        "    if predicted_bmi >= 0:\n",
        "        return \"Obese\"\n",
        "    else:\n",
        "        return \"Not obese\"\n",
        "\n",
        "print(test_linear_classifier(5.5,60))"
      ],
      "metadata": {
        "colab": {
          "base_uri": "https://localhost:8080/"
        },
        "id": "WVZG2uSJHs1Q",
        "outputId": "92d8d830-7486-4e40-f019-9d2ff37295f3"
      },
      "execution_count": 11,
      "outputs": [
        {
          "output_type": "stream",
          "name": "stdout",
          "text": [
            "Not obese\n"
          ]
        }
      ]
    },
    {
      "cell_type": "markdown",
      "source": [
        "#Discuss about Hyper parameters\n",
        "Hyperparameters are configuration variables that control the training of a machine learning model.\n",
        "\n",
        "They are set manually before training begins, and are different from parameters that are calculated during training.\n",
        "\n",
        "**Why are hyperparameters important?**\n",
        "\n",
        "Hyperparameters affect the speed and quality of the learning process.\n",
        "The right combination of hyperparameters can significantly improve a model's performance and generalization ability.\n",
        "\n",
        "**Examples of hyperparameters**\n",
        "\n",
        "Learning rate: A floating point number that controls how quickly the model converges\n",
        "\n",
        "Batch size: The number of examples the model processes before updating its weights and bias\n",
        "\n",
        "Number of hidden layers: The number of layers in a neural network\n",
        "\n",
        "Number of nodes: The number of nodes in each layer of a neural network\n",
        "\n",
        "Number of branches: The number of branches in a decision tree\n",
        "\n",
        "Regularization strength: A hyperparameter that controls the strength of regularization\n",
        "\n",
        "Dropout rate: A hyperparameter that controls the dropout rate\n",
        "\n",
        "Coming to above code, we are setting k=1000 , which is nothing but number of iterations in which we can get optimal a,b,c(These are parameters, which change dynamically untill we get a better value but Hyper parameters dont change and they are constants) values\n",
        "\n",
        "\n",
        "\n",
        "\n",
        "\n",
        "#Discuss about loss functions\n",
        "#Discuss about Math, possible use of np.dot()"
      ],
      "metadata": {
        "id": "6zUzNdomX6ri"
      }
    }
  ],
  "metadata": {
    "language_info": {
      "name": "python"
    },
    "colab": {
      "provenance": []
    },
    "kernelspec": {
      "name": "python3",
      "display_name": "Python 3"
    }
  },
  "nbformat": 4,
  "nbformat_minor": 0
}