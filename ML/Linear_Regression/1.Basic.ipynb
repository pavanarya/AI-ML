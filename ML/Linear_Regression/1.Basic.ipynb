{
  "cells": [
    {
      "cell_type": "code",
      "source": [
        "!pip install numpy\n",
        "!pip install matplotlib"
      ],
      "metadata": {
        "colab": {
          "base_uri": "https://localhost:8080/"
        },
        "id": "SZpchLkKFhRQ",
        "outputId": "fc5eecc9-4b2b-428b-e1d7-4ca20cc4401f"
      },
      "execution_count": 1,
      "outputs": [
        {
          "output_type": "stream",
          "name": "stdout",
          "text": [
            "Requirement already satisfied: numpy in /usr/local/lib/python3.11/dist-packages (1.26.4)\n",
            "Requirement already satisfied: matplotlib in /usr/local/lib/python3.11/dist-packages (3.10.0)\n",
            "Requirement already satisfied: contourpy>=1.0.1 in /usr/local/lib/python3.11/dist-packages (from matplotlib) (1.3.1)\n",
            "Requirement already satisfied: cycler>=0.10 in /usr/local/lib/python3.11/dist-packages (from matplotlib) (0.12.1)\n",
            "Requirement already satisfied: fonttools>=4.22.0 in /usr/local/lib/python3.11/dist-packages (from matplotlib) (4.55.7)\n",
            "Requirement already satisfied: kiwisolver>=1.3.1 in /usr/local/lib/python3.11/dist-packages (from matplotlib) (1.4.8)\n",
            "Requirement already satisfied: numpy>=1.23 in /usr/local/lib/python3.11/dist-packages (from matplotlib) (1.26.4)\n",
            "Requirement already satisfied: packaging>=20.0 in /usr/local/lib/python3.11/dist-packages (from matplotlib) (24.2)\n",
            "Requirement already satisfied: pillow>=8 in /usr/local/lib/python3.11/dist-packages (from matplotlib) (11.1.0)\n",
            "Requirement already satisfied: pyparsing>=2.3.1 in /usr/local/lib/python3.11/dist-packages (from matplotlib) (3.2.1)\n",
            "Requirement already satisfied: python-dateutil>=2.7 in /usr/local/lib/python3.11/dist-packages (from matplotlib) (2.8.2)\n",
            "Requirement already satisfied: six>=1.5 in /usr/local/lib/python3.11/dist-packages (from python-dateutil>=2.7->matplotlib) (1.17.0)\n"
          ]
        }
      ]
    },
    {
      "cell_type": "code",
      "execution_count": 4,
      "metadata": {
        "vscode": {
          "languageId": "plaintext"
        },
        "id": "fvow2SzUFMy0"
      },
      "outputs": [],
      "source": [
        "import numpy as np\n",
        "import matplotlib.pyplot as plt"
      ]
    },
    {
      "cell_type": "markdown",
      "source": [
        "#Step1:\n",
        "Processing Input Data, In this case we will simply generate input data using numpy.\n",
        "\n",
        "Lets take height and weight of 30 people"
      ],
      "metadata": {
        "id": "JlPmLrXrIrMY"
      }
    },
    {
      "cell_type": "code",
      "source": [
        "non_obese_height = np.random.normal(loc=5.5,size=30,scale=0.5)\n",
        "print(non_obese_height)\n",
        "\n",
        "non_obese_weight = np.random.normal(loc=60,size=30,scale=2.5)\n",
        "print(non_obese_weight)\n",
        "\n",
        "\n",
        "obese_height = np.random.normal(loc=4,size=30,scale=0.5)\n",
        "print(obese_height)\n",
        "\n",
        "obese_weight = np.random.normal(loc=75,size=30,scale=2)\n",
        "print(obese_weight)"
      ],
      "metadata": {
        "colab": {
          "base_uri": "https://localhost:8080/"
        },
        "id": "tt8G5gBGIp4S",
        "outputId": "21c1314e-4183-4f19-cc00-b9957b724e80"
      },
      "execution_count": 47,
      "outputs": [
        {
          "output_type": "stream",
          "name": "stdout",
          "text": [
            "[5.96005132 5.18996459 5.86814181 5.44311692 6.15128994 4.76392776\n",
            " 5.73462068 5.23972952 5.00069833 4.89281921 6.32462031 5.18065186\n",
            " 5.43441594 5.84246411 5.3748392  5.91253098 5.24226078 5.22960392\n",
            " 5.41221711 5.17224803 5.99226112 5.74137119 4.62711787 5.8707664\n",
            " 5.59542661 5.30198396 6.25186133 4.95019476 5.59513207 6.10270815]\n",
            "[61.73179568 59.2966294  58.73541931 59.39475621 59.75559722 61.00048836\n",
            " 58.7967875  62.12087468 61.96899148 64.62260912 59.32174011 56.84946982\n",
            " 62.09666815 60.67100679 59.21100857 60.27695026 55.9021976  55.24792873\n",
            " 60.5125602  60.79323507 56.21307217 62.8108368  59.19006283 61.92294164\n",
            " 59.57751478 60.91976116 56.07251845 59.96550796 62.05158886 59.77202332]\n",
            "[3.56988061 3.64683987 4.10884491 3.20880361 3.50181778 4.37972861\n",
            " 4.0668543  4.64342303 4.44007858 4.19209194 3.91929601 4.37358946\n",
            " 3.83815152 4.72140119 4.77736609 4.60595159 4.74641414 3.92424945\n",
            " 4.22441954 3.45583041 4.45505099 3.95276258 3.71432303 3.88548382\n",
            " 4.1396556  3.50320423 4.87666771 4.18916289 4.24632596 3.07617295]\n",
            "[73.80133513 77.34179534 73.05410931 75.93011488 73.7703364  77.25750763\n",
            " 78.68263509 74.80968908 78.23955312 75.32953129 73.75258828 76.37202364\n",
            " 74.04844218 75.82771326 77.64257058 76.27677163 76.22625624 77.09317202\n",
            " 75.95885251 75.09786316 71.6989561  74.80920804 76.15897031 75.5011407\n",
            " 78.61272588 77.40453116 73.58079581 77.98485835 73.79763263 79.18330175]\n"
          ]
        }
      ]
    },
    {
      "cell_type": "code",
      "source": [
        "plt.scatter(non_obese_height,non_obese_weight)\n",
        "plt.scatter(obese_height,obese_weight)\n",
        "plt.xlabel(\"Height\")\n",
        "plt.ylabel(\"Weight\")\n",
        "plt.legend([\"Non Obese\",\"Obese\"])\n",
        "plt.show()"
      ],
      "metadata": {
        "id": "pXFRNaxhMm2_",
        "outputId": "56051a0e-214d-47b3-8591-3507a2ccc627",
        "colab": {
          "base_uri": "https://localhost:8080/",
          "height": 449
        }
      },
      "execution_count": 39,
      "outputs": [
        {
          "output_type": "display_data",
          "data": {
            "text/plain": [
              "<Figure size 640x480 with 1 Axes>"
            ],
            "image/png": "[encoded data removed]"
          },
          "metadata": {}
        }
      ]
    },
    {
      "cell_type": "markdown",
      "source": [
        "#Step 2\n",
        "Space of All possible solutions(Hypothesis)\n",
        "\n",
        "For x -> Hypothesis -> Y\n",
        "\n",
        "Lets Build a classifier line that separates people who are obese and not. It can be a straight line that separates both categories\n",
        "\n",
        "Linear algebra equation for a straight line\n",
        "ax+by+c=0\n",
        "x = height\n",
        "y = weight\n",
        "\n",
        "This is a standard form of line\n",
        "\n",
        "https://www.youtube.com/watch?v=-DnmoFnQUtk\n",
        "\n"
      ],
      "metadata": {
        "id": "FR_ymn8XZjaN"
      }
    },
    {
      "cell_type": "code",
      "source": [
        "\n",
        "non_obese_arr = np.array([non_obese_height,non_obese_weight])\n",
        "obese_arr= np.array([obese_height,obese_weight])\n",
        "\n",
        "best_a=None\n",
        "best_b=None\n",
        "\n",
        "obese_arr_1 = np.array([list(row) for row in zip(obese_arr[0], obese_arr[1])])\n",
        "non_obese_arr_1 = np.array([list(row) for row in zip(non_obese_arr[0], non_obese_arr[1])])\n",
        "\n",
        "k=5\n",
        "for i in range(k):\n",
        "  a_b = np.random.normal(size=2) # generates array random values for a and b\n",
        "  c = np.random.normal()\n",
        "  print(a_b)\n",
        "  print(c)\n"
      ],
      "metadata": {
        "id": "k6fTuBUvZ102",
        "outputId": "2b8530a1-e1d8-4ef3-f50f-8e3797c9091e",
        "colab": {
          "base_uri": "https://localhost:8080/"
        }
      },
      "execution_count": 58,
      "outputs": [
        {
          "output_type": "stream",
          "name": "stdout",
          "text": [
            "[0.50874879 0.23071433]\n",
            "-0.006804132868775718\n",
            "[-0.5475816  -1.38834572]\n",
            "0.6589420183518174\n",
            "[0.3977429  0.39498143]\n",
            "0.4979406994172637\n",
            "[ 0.28662483 -0.29259271]\n",
            "-0.4691722429074129\n",
            "[1.01976044 0.97472043]\n",
            "0.5099388188488051\n"
          ]
        }
      ]
    },
    {
      "cell_type": "markdown",
      "source": [
        "#Step 3:\n",
        "#Finding right solution\n",
        "Since we can have number of lines, we should always find a line which best fits (separates diff categories like obese and non obese)\n",
        "\n",
        "One of the properties of linear equation ax+by+c=0 is for a given a,b,c. If we try to replace a (x,y) value in above equation, it will be either a positive or a negative number\n",
        "So for a random a,b,c values, if we put our (height,weight) we should always get a positive number or a negative number\n",
        "So if the line eq is perfect then all our obese data points will be completely positive then non_obese data points will be completely negative respectively or vice versa\n",
        "\n",
        "ideally if we find a best line which better satisfies above condition\n",
        "\n",
        "This is also called **Loss Function** calculation. And loss should be minimal"
      ],
      "metadata": {
        "id": "S5lYLfV2mZV1"
      }
    },
    {
      "cell_type": "code",
      "source": [
        "def compute_error(obese_items,non_obese_items,a_b_1,c1):\n",
        "  error = 0\n",
        "  for obese_item in obese_items:\n",
        "    x = obese_item[0]\n",
        "    y = obese_item[1]\n",
        "\n",
        "    #print(str(x)+\"  \"+str(y)+\"   \"+str(a_b_1[0]*x+a_b_1[1]*y+c1) + \"  \"+str(a_b_1[0])+\"  \"+str(a_b_1[1])+\"  \"+str(c1))\n",
        "\n",
        "    if (a_b_1[0]*x+a_b_1[1]*y+c1) <=0:\n",
        "      error += 1\n",
        "  #print(\"-------------------------------------------------------\" + str(error))\n",
        "  for non_obese_item in non_obese_items:\n",
        "    x = non_obese_item[0]\n",
        "    y = non_obese_item[1]\n",
        "    #print(str(x)+\"  \"+str(y)+\"   \"+str(a_b_1[0]*x+a_b_1[1]*y+c1) + \"  \"+str(a_b_1[0])+\"  \"+str(a_b_1[1])+\"  \"+str(c1))\n",
        "    if (a_b_1[0]*x+a_b_1[1]*y+c1) >=0:\n",
        "      error += 1\n",
        "  #print(\"^^^^^^^^^^^^^^^^^^^^^^^^^^^^^^^^^^^^^^^^^^^^^^^^^^^^\" + str(error))\n",
        "  return error"
      ],
      "metadata": {
        "id": "LHoDt4PGn-ny"
      },
      "execution_count": 93,
      "outputs": []
    },
    {
      "cell_type": "code",
      "source": [
        "k = 1000\n",
        "best_a_b = None\n",
        "best_c = None\n",
        "best_error = float('inf')\n",
        "\n",
        "for i in range(k):\n",
        "  a_b = np.random.normal(size=2) #[2.3,-0.3]\n",
        "  c = np.random.normal() #8.7\n",
        "\n",
        "  #print(str(a_b) + \"  \" + str(c))\n",
        "\n",
        "  error = compute_error(obese_arr_1,non_obese_arr_1,a_b,c)\n",
        "  if error < best_error:\n",
        "    print(\"Iteration: \"+str(i)+\"  Error:\"+str(error))\n",
        "    best_a_b = a_b\n",
        "    best_c = c\n",
        "    best_error = error\n",
        "\n",
        "print(\"---------------------\")\n",
        "print(best_a_b)\n",
        "print(best_c)\n",
        "print(best_error)"
      ],
      "metadata": {
        "id": "WgMNoxmcr7e1",
        "outputId": "1f4924de-d70d-420a-e5d9-b4e8738ff4a4",
        "colab": {
          "base_uri": "https://localhost:8080/"
        }
      },
      "execution_count": 107,
      "outputs": [
        {
          "output_type": "stream",
          "name": "stdout",
          "text": [
            "Iteration: 0  Error:30\n",
            "Iteration: 86  Error:14\n",
            "Iteration: 492  Error:6\n",
            "Iteration: 669  Error:0\n",
            "---------------------\n",
            "[-2.46906248  0.1552393 ]\n",
            "1.3065556692594047\n",
            "0\n"
          ]
        }
      ]
    },
    {
      "cell_type": "code",
      "source": [
        "x = np.linspace(0, 6.5, 100)\n",
        "# Calculate corresponding y values for the line\n",
        "y = (-best_a_b[0] * x - best_c) / best_a_b[1] #(-a * x - c) / b\n",
        "\n",
        "# Plot the line\n",
        "plt.plot(x, y)\n",
        "\n",
        "\n",
        "plt.scatter(non_obese_height,non_obese_weight)\n",
        "plt.scatter(obese_height,obese_weight)\n",
        "plt.xlabel(\"Height\")\n",
        "plt.ylabel(\"Weight\")\n",
        "plt.legend([\"Line\",\"Non Obese\",\"Obese\"])\n",
        "#plt.xlim(0)  # Set the lower limit of the x-axis to 0\n",
        "#plt.ylim(0)  # Set the lower limit of the y-axis to 0\n",
        "plt.show()"
      ],
      "metadata": {
        "id": "PkJ3PnL8soLb",
        "outputId": "0e2e2e64-0c4d-4616-ae6a-a0e6106fb432",
        "colab": {
          "base_uri": "https://localhost:8080/",
          "height": 449
        }
      },
      "execution_count": 103,
      "outputs": [
        {
          "output_type": "display_data",
          "data": {
            "text/plain": [
              "<Figure size 640x480 with 1 Axes>"
            ],
            "image/png": "[encoded data removed]"
          },
          "metadata": {}
        }
      ]
    }
  ],
  "metadata": {
    "language_info": {
      "name": "python"
    },
    "colab": {
      "provenance": []
    },
    "kernelspec": {
      "name": "python3",
      "display_name": "Python 3"
    }
  },
  "nbformat": 4,
  "nbformat_minor": 0
}